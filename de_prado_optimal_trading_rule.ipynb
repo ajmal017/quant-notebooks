{
  "nbformat": 4,
  "nbformat_minor": 0,
  "metadata": {
    "colab": {
      "name": "de-prado-optimal-trading-rule.ipynb",
      "provenance": [],
      "collapsed_sections": [],
      "authorship_tag": "ABX9TyN01l739y2PGwQyYe9Xw/hF",
      "include_colab_link": true
    },
    "kernelspec": {
      "name": "python3",
      "display_name": "Python 3"
    }
  },
  "cells": [
    {
      "cell_type": "markdown",
      "metadata": {
        "id": "view-in-github",
        "colab_type": "text"
      },
      "source": [
        "<a href=\"https://colab.research.google.com/github/kkt86/quant-notebooks/blob/master/de_prado_optimal_trading_rule.ipynb\" target=\"_parent\"><img src=\"https://colab.research.google.com/assets/colab-badge.svg\" alt=\"Open In Colab\"/></a>"
      ]
    },
    {
      "cell_type": "markdown",
      "metadata": {
        "id": "DUw6DBMwuZTK",
        "colab_type": "text"
      },
      "source": [
        ""
      ]
    },
    {
      "cell_type": "markdown",
      "metadata": {
        "id": "TRReRdaVubQS",
        "colab_type": "text"
      },
      "source": [
        "# De Prado Optimal trading rule\n",
        "\n",
        "This notebook follows Chapter 13 of the Advances in Financial Machine Learning book"
      ]
    },
    {
      "cell_type": "code",
      "metadata": {
        "id": "13iJvMKguORM",
        "colab_type": "code",
        "colab": {}
      },
      "source": [
        "import numpy as np\n",
        "from random import gauss\n",
        "from itertools import product\n",
        "from tqdm import tqdm"
      ],
      "execution_count": 0,
      "outputs": []
    },
    {
      "cell_type": "code",
      "metadata": {
        "id": "cm799ZjCupB4",
        "colab_type": "code",
        "colab": {}
      },
      "source": [
        "def batch(coeffs, nIter=1e5, maxHP=100, rPT=np.linspace(.5, 10, 20), rSLm=np.linspace(.5, 10, 20), seed=0):\n",
        "  phi, output1 = 2**(-1./coeffs[\"hl\"]), []\n",
        "  for comb_ in product(rPT, rSLm):\n",
        "    output2 = []\n",
        "    for iter_ in range(int(nIter)):\n",
        "      p, hp, count = seed, 0, 0\n",
        "      while True:\n",
        "        p = (1 - phi)*coeffs[\"forecast\"] + phi*p + coeffs[\"sigma\"]*gauss(0,1)\n",
        "        cP = p - seed\n",
        "        hp += 1\n",
        "        if cP > comb_[0] or cP < comb_[1] or hp > maxHP:\n",
        "          output2.append(cP)\n",
        "          break\n",
        "    mean = np.mean(output2)\n",
        "    std = np.std(output2)\n",
        "    output1.append((comb_[0], comb_[1], mean, std, mean/std))\n",
        "  return output1"
      ],
      "execution_count": 0,
      "outputs": []
    },
    {
      "cell_type": "code",
      "metadata": {
        "id": "XVf4TSzHuo_q",
        "colab_type": "code",
        "colab": {
          "base_uri": "https://localhost:8080/",
          "height": 476
        },
        "outputId": "b6feb9f5-41c9-42ea-994a-17acab7ba674"
      },
      "source": [
        "rPT = np.linspace(0, 10, 20)\n",
        "sLMm = np.linspace(0, 10, 20)\n",
        "count = 0\n",
        "for prod_ in tqdm(product([10, 5, 0, -5, -10], [5, 10, 25, 50, 100])):\n",
        "  count += 1\n",
        "  coeff = {\"forecast\": prod_[0], \"hl\": prod_[1], \"sigma\": 1}\n",
        "  output = batch(coeff, nIter=1e3, maxHP=100, rPT=rPT, rSLm=rSLm)\n"
      ],
      "execution_count": 15,
      "outputs": [
        {
          "output_type": "stream",
          "text": [
            "\n",
            "0it [00:00, ?it/s]\u001b[A\n",
            "1it [00:00,  1.09it/s]\u001b[A\n",
            "2it [00:01,  1.09it/s]\u001b[A\n",
            "3it [00:02,  1.13it/s]\u001b[A\n",
            "4it [00:03,  1.18it/s]\u001b[A\n",
            "5it [00:04,  1.23it/s]\u001b[A\n",
            "6it [00:05,  1.09it/s]\u001b[A\n",
            "7it [00:06,  1.10it/s]\u001b[A\n",
            "8it [00:06,  1.15it/s]\u001b[A\n",
            "9it [00:07,  1.21it/s]\u001b[A\n",
            "10it [00:08,  1.26it/s]\u001b[A\n",
            "11it [00:09,  1.33it/s]\u001b[A\n",
            "12it [00:09,  1.36it/s]\u001b[A\n",
            "13it [00:10,  1.38it/s]\u001b[A\n",
            "14it [00:11,  1.39it/s]\u001b[A\n",
            "15it [00:11,  1.39it/s]\u001b[A\n",
            "16it [00:12,  1.47it/s]\u001b[A\n",
            "17it [00:13,  1.51it/s]\u001b[A\n",
            "18it [00:13,  1.52it/s]\u001b[A\n",
            "19it [00:14,  1.51it/s]\u001b[A\n",
            "20it [00:15,  1.51it/s]\u001b[A\n",
            "21it [00:15,  1.59it/s]\u001b[A\n",
            "22it [00:16,  1.65it/s]\u001b[A\n",
            "23it [00:16,  1.64it/s]\u001b[A\n",
            "24it [00:17,  1.60it/s]\u001b[A\n",
            "25it [00:18,  1.57it/s]\u001b[A\n",
            "\u001b[A"
          ],
          "name": "stderr"
        }
      ]
    },
    {
      "cell_type": "code",
      "metadata": {
        "id": "iHWiQvyquo9R",
        "colab_type": "code",
        "colab": {
          "base_uri": "https://localhost:8080/",
          "height": 34
        },
        "outputId": "ff544e71-7a51-4ada-8abb-20d6142eb9a7"
      },
      "source": [
        "len(output)"
      ],
      "execution_count": 17,
      "outputs": [
        {
          "output_type": "execute_result",
          "data": {
            "text/plain": [
              "420"
            ]
          },
          "metadata": {
            "tags": []
          },
          "execution_count": 17
        }
      ]
    },
    {
      "cell_type": "code",
      "metadata": {
        "id": "SFcMFomZuo6w",
        "colab_type": "code",
        "colab": {}
      },
      "source": [
        ""
      ],
      "execution_count": 0,
      "outputs": []
    },
    {
      "cell_type": "code",
      "metadata": {
        "id": "RmlYQvt8uo4Q",
        "colab_type": "code",
        "colab": {}
      },
      "source": [
        ""
      ],
      "execution_count": 0,
      "outputs": []
    },
    {
      "cell_type": "code",
      "metadata": {
        "id": "WGTIkEcruo2A",
        "colab_type": "code",
        "colab": {}
      },
      "source": [
        ""
      ],
      "execution_count": 0,
      "outputs": []
    },
    {
      "cell_type": "markdown",
      "metadata": {
        "id": "TpZObREQuYiB",
        "colab_type": "text"
      },
      "source": [
        ""
      ]
    }
  ]
}