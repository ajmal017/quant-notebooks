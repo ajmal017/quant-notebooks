{
  "nbformat": 4,
  "nbformat_minor": 0,
  "metadata": {
    "colab": {
      "name": "lstm-asx-predictions.ipynb",
      "provenance": [],
      "collapsed_sections": [],
      "toc_visible": true,
      "include_colab_link": true
    },
    "kernelspec": {
      "name": "python3",
      "display_name": "Python 3"
    },
    "accelerator": "GPU"
  },
  "cells": [
    {
      "cell_type": "markdown",
      "metadata": {
        "id": "view-in-github",
        "colab_type": "text"
      },
      "source": [
        "<a href=\"https://colab.research.google.com/github/kkt86/quant-notebooks/blob/master/lstm_asx_predictions.ipynb\" target=\"_parent\"><img src=\"https://colab.research.google.com/assets/colab-badge.svg\" alt=\"Open In Colab\"/></a>"
      ]
    },
    {
      "cell_type": "markdown",
      "metadata": {
        "id": "I5g0zA_H-pjY",
        "colab_type": "text"
      },
      "source": [
        "# Stock market predictions for Australian Securities Exchange (ASX) with LSTM network\n",
        "\n",
        "In this notebook, we reimplement the code from the following link:\n",
        "https://towardsdatascience.com/predicting-the-movement-of-stocks-in-the-australian-securities-exchange-asx-fa63b5c059bb\n",
        "\n",
        "Repository:\n",
        "https://github.com/arvindrajan92/asx-financial-time-series-prediction\n",
        "\n",
        "Open questions:\n",
        "\n",
        "1. Does 75th percentile on full data have impact (test on a training period only)\n",
        "2. Try normalizing on columns only\n",
        "3. Try not to balance UPs and DOWNs\n"
      ]
    },
    {
      "cell_type": "code",
      "metadata": {
        "id": "zKCphdrB43GE",
        "colab_type": "code",
        "outputId": "03120b24-34bb-485b-ba92-1e790fd0c88c",
        "colab": {
          "base_uri": "https://localhost:8080/",
          "height": 34
        }
      },
      "source": [
        "### copy data from repository\n",
        "%%bash\n",
        "git clone https://github.com/arvindrajan92/asx-financial-time-series-prediction\n",
        "\n"
      ],
      "execution_count": 1,
      "outputs": [
        {
          "output_type": "stream",
          "text": [
            "Cloning into 'asx-financial-time-series-prediction'...\n"
          ],
          "name": "stderr"
        }
      ]
    },
    {
      "cell_type": "code",
      "metadata": {
        "id": "4zTXPbPbCA0O",
        "colab_type": "code",
        "colab": {}
      },
      "source": [
        "# produce 5 dataframes: open, high, low, close and volume with index the date, and colums the indexs\n",
        "import glob\n",
        "import pandas as pd\n",
        "import numpy as np\n",
        "\n",
        "directory = \"asx-financial-time-series-prediction/ASX-2015-2018/ASX-2015-2018/\"\n",
        "files = glob.glob(directory + \"[0-9]*.txt\") \n",
        "cols = [\"ticker\", \"date\", \"open\", \"high\", \"low\", \"close\", \"volume\"]\n",
        "\n",
        "dfs = [pd.read_csv(file, header=None, names=cols, parse_dates=[\"date\"], index_col=\"date\") for file in files]\n",
        "\n",
        "df_master = pd.concat(dfs)\n",
        "df_master = df_master.sort_index()"
      ],
      "execution_count": 0,
      "outputs": []
    },
    {
      "cell_type": "code",
      "metadata": {
        "id": "2WS-lwrL_nzj",
        "colab_type": "code",
        "outputId": "5960f7f0-d447-41d3-ccc2-c55978776125",
        "colab": {
          "base_uri": "https://localhost:8080/",
          "height": 85
        }
      },
      "source": [
        "# print number of tickets and dates\n",
        "print(f\"Number of distinct tickers: {len(df_master.ticker.unique())}\")\n",
        "print(f\"Number of days entries: {len(df_master.index.unique())}\")\n",
        "print(f\"First day of entry: {df_master.index.min()}\")\n",
        "print(f\"Last day of entry: {df_master.index.max()}\")"
      ],
      "execution_count": 3,
      "outputs": [
        {
          "output_type": "stream",
          "text": [
            "Number of distinct tickers: 2773\n",
            "Number of days entries: 883\n",
            "First day of entry: 2015-01-02 00:00:00\n",
            "Last day of entry: 2018-06-29 00:00:00\n"
          ],
          "name": "stdout"
        }
      ]
    },
    {
      "cell_type": "code",
      "metadata": {
        "id": "Dg1m8OfwZrAQ",
        "colab_type": "code",
        "colab": {}
      },
      "source": [
        "# build dataframes for open, high, low, close and volume\n",
        "df_master.head()\n",
        "\n",
        "df_open = df_master[[\"ticker\", \"open\"]].pivot(columns=\"ticker\", values=\"open\")\n",
        "df_high = df_master[[\"ticker\", \"high\"]].pivot(columns=\"ticker\", values=\"high\")\n",
        "df_low = df_master[[\"ticker\", \"low\"]].pivot(columns=\"ticker\", values=\"low\")\n",
        "df_close = df_master[[\"ticker\", \"close\"]].pivot(columns=\"ticker\", values=\"close\")\n",
        "df_volume = df_master[[\"ticker\", \"volume\"]].pivot(columns=\"ticker\", values=\"volume\")\n",
        "\n",
        "# compute the next day return and assign it to the current date\n",
        "df_ftr_rtn = df_close.shift(-1) / df_close - 1\n",
        "\n",
        "# find the current day return (compared to the last day)\n",
        "df_rtn = (df_close / df_close.shift(1)) - 1\n",
        "\n",
        "# create dataframe for the high/low values, for each day\n",
        "df_hl = df_high/df_low"
      ],
      "execution_count": 0,
      "outputs": []
    },
    {
      "cell_type": "markdown",
      "metadata": {
        "id": "MVwwbhIvdmLC",
        "colab_type": "text"
      },
      "source": [
        "### EDA"
      ]
    },
    {
      "cell_type": "code",
      "metadata": {
        "id": "8S1ifnbVZqse",
        "colab_type": "code",
        "outputId": "7ac69342-6857-48c7-e055-a2d6e9ba6b62",
        "colab": {
          "base_uri": "https://localhost:8080/",
          "height": 312
        }
      },
      "source": [
        "import matplotlib.pyplot as plt\n",
        "%matplotlib inline\n",
        "\n",
        "# histogram of the number of the number of non-missing values\n",
        "ax = df_close.notna().sum().hist()\n",
        "plt.xlabel(\"Number of observations\")\n",
        "plt.ylabel(\"Frequency (tickers)\")\n",
        "plt.axis(\"tight\")\n",
        "plt.title(\"Distribution of non-missing values in tickers\")\n",
        "plt.show()\n",
        "\n",
        "print(f\"There are {df_close.columns[df_close.notna().sum() == df_close.shape[0]].shape[0]} tickers with full data available\")"
      ],
      "execution_count": 5,
      "outputs": [
        {
          "output_type": "display_data",
          "data": {
            "image/png": "[encoded data removed]",
            "text/plain": [
              "<Figure size 432x288 with 1 Axes>"
            ]
          },
          "metadata": {
            "tags": []
          }
        },
        {
          "output_type": "stream",
          "text": [
            "There are 196 tickers with full data available\n"
          ],
          "name": "stdout"
        }
      ]
    },
    {
      "cell_type": "code",
      "metadata": {
        "id": "sz6sUzpGZqps",
        "colab_type": "code",
        "colab": {}
      },
      "source": [
        "# find and remove composite indexes (those wiht volume = 0)\n",
        "non_composite_indexes = df_volume.columns[(df_volume.notna().sum() != 0).values].values\n",
        "\n",
        "df_open = df_open[non_composite_indexes]\n",
        "df_high = df_high[non_composite_indexes]\n",
        "df_low = df_low[non_composite_indexes]\n",
        "df_close = df_close[non_composite_indexes]\n",
        "df_volume = df_volume[non_composite_indexes]\n",
        "df_ftr_rtn = df_ftr_rtn[non_composite_indexes]\n",
        "df_rtn = df_rtn[non_composite_indexes]\n",
        "df_hl = df_hl[non_composite_indexes] "
      ],
      "execution_count": 0,
      "outputs": []
    },
    {
      "cell_type": "code",
      "metadata": {
        "id": "EkgPVGGnZqmb",
        "colab_type": "code",
        "colab": {}
      },
      "source": [
        "# remove tickers with less than 800 entries\n",
        "tickers_good = df_close.columns[(df_close.notna().sum() >= 800).values].values\n",
        "\n",
        "df_open = df_open[tickers_good]\n",
        "df_high = df_high[tickers_good]\n",
        "df_low = df_low[tickers_good]\n",
        "df_close = df_close[tickers_good]\n",
        "df_volume = df_volume[tickers_good]\n",
        "df_ftr_rtn = df_ftr_rtn[tickers_good]\n",
        "df_rtn = df_rtn[tickers_good]\n",
        "df_hl = df_hl[tickers_good] "
      ],
      "execution_count": 0,
      "outputs": []
    },
    {
      "cell_type": "markdown",
      "metadata": {
        "id": "qkbjnB0jiKm_",
        "colab_type": "text"
      },
      "source": [
        "__Note__: the author is considering tickers, whose correlation with the future return is in the top 75 percent. I believe this introduces quite a strong look ahead bias. For this reason, I will implement the following 3 cases:\n",
        "\n",
        "1. Original implementation (filtering done on the full data)\n",
        "2. Train dataset filtering (computation of the average correlation done only on training data)\n",
        "3. No filtering"
      ]
    },
    {
      "cell_type": "code",
      "metadata": {
        "id": "Bqidfl3uj4ZW",
        "colab_type": "code",
        "outputId": "e9e24a31-bb08-4e6b-db88-5fb0b7d55f6f",
        "colab": {
          "base_uri": "https://localhost:8080/",
          "height": 295
        }
      },
      "source": [
        "# rank tickers by average correlation\n",
        "df_corr_score  = pd.DataFrame()\n",
        "\n",
        "for ticker in tickers_good:\n",
        "  df = pd.concat([df_open[ticker], \n",
        "                  df_high[ticker], \n",
        "                  df_low[ticker], \n",
        "                  df_close[ticker], \n",
        "                  df_volume[ticker], \n",
        "                  df_ftr_rtn[ticker], \n",
        "                  df_rtn[ticker], \n",
        "                  df_hl[ticker]], axis=1, keys=[\"open\", \"high\", \"low\", \"close\", \"volume\", \"future_return\", \"return\", \"high_low\"])\n",
        "  df_corr_score = df_corr_score.append({\"ticker\": ticker, \n",
        "                                        \"avg_corr\": df.corr().drop(\"future_return\", axis=1).loc[\"future_return\"].abs().mean()}, \n",
        "                                       ignore_index=True)\n",
        "  \n",
        "# plot average correlations\n",
        "df_corr_score.avg_corr.hist()\n",
        "plt.xlabel(\"Average correlation\")\n",
        "plt.ylabel(\"Frequency\")\n",
        "plt.title(\"Distribution of average correlation to future return\")\n",
        "plt.show()"
      ],
      "execution_count": 8,
      "outputs": [
        {
          "output_type": "display_data",
          "data": {
            "image/png": "[encoded data removed]",
            "text/plain": [
              "<Figure size 432x288 with 1 Axes>"
            ]
          },
          "metadata": {
            "tags": []
          }
        }
      ]
    },
    {
      "cell_type": "code",
      "metadata": {
        "id": "tFdzNASYZqjW",
        "colab_type": "code",
        "colab": {}
      },
      "source": [
        "case = \"original\"\n",
        "assert case in [\"original\", \"train-data\", \"no-filter\"], \"Wrong case value\"\n",
        "\n",
        "if case == \"original\":\n",
        "  tickers_75 = df_corr_score[df_corr_score.avg_corr > df_corr_score.avg_corr.quantile(0.75)].ticker.values\n",
        "\n",
        "  # get only filtered data\n",
        "  df_open = df_open[tickers_75]\n",
        "  df_high = df_high[tickers_75]\n",
        "  df_low = df_low[tickers_75]\n",
        "  df_close = df_close[tickers_75]\n",
        "  df_volume = df_volume[tickers_75]\n",
        "  df_ftr_rtn = df_ftr_rtn[tickers_75]\n",
        "  df_rtn = df_rtn[tickers_75]\n",
        "  df_hl = df_hl[tickers_75]\n",
        "\n",
        "#elif case == \"no-train-data\":\n",
        "\n",
        "#else:"
      ],
      "execution_count": 0,
      "outputs": []
    },
    {
      "cell_type": "code",
      "metadata": {
        "id": "sc_sXlAKhylW",
        "colab_type": "code",
        "colab": {}
      },
      "source": [
        "# clean original data\n",
        "df_close = df_close.fillna(method=\"ffill\")\n",
        "df_close = df_close.fillna(method=\"bfill\")\n",
        "df_volume = df_volume.apply(lambda x: 0 if pd.isna(x) is True else x)\n",
        "df_open = df_open.fillna(df_close)\n",
        "df_high = df_high.fillna(df_close)\n",
        "df_low = df_low.fillna(df_close)\n",
        "df_ftr_rtn = (df_close.shift(-1) / df_close) - 1 \n",
        "df_rtn = (df_close / df_close.shift(1)) - 1 \n",
        "df_hl = df_high/df_low"
      ],
      "execution_count": 0,
      "outputs": []
    },
    {
      "cell_type": "markdown",
      "metadata": {
        "id": "VdG0AEjisI-0",
        "colab_type": "text"
      },
      "source": [
        "## Additional transformations"
      ]
    },
    {
      "cell_type": "code",
      "metadata": {
        "id": "bc6Orhy1hydN",
        "colab_type": "code",
        "outputId": "60595777-d14c-4b92-80a9-9dddb21e8ba2",
        "colab": {
          "base_uri": "https://localhost:8080/",
          "height": 275
        }
      },
      "source": [
        "%pip install ta"
      ],
      "execution_count": 11,
      "outputs": [
        {
          "output_type": "stream",
          "text": [
            "Collecting ta\n",
            "  Downloading https://files.pythonhosted.org/packages/92/ba/5b69e3347a749f18110ceefdc8165aee12645b0c85f660db141828f72f5e/ta-0.5.11.tar.gz\n",
            "Requirement already satisfied: numpy in /usr/local/lib/python3.6/dist-packages (from ta) (1.17.5)\n",
            "Requirement already satisfied: pandas in /usr/local/lib/python3.6/dist-packages (from ta) (0.25.3)\n",
            "Requirement already satisfied: python-dateutil>=2.6.1 in /usr/local/lib/python3.6/dist-packages (from pandas->ta) (2.6.1)\n",
            "Requirement already satisfied: pytz>=2017.2 in /usr/local/lib/python3.6/dist-packages (from pandas->ta) (2018.9)\n",
            "Requirement already satisfied: six>=1.5 in /usr/local/lib/python3.6/dist-packages (from python-dateutil>=2.6.1->pandas->ta) (1.12.0)\n",
            "Building wheels for collected packages: ta\n",
            "  Building wheel for ta (setup.py) ... \u001b[?25l\u001b[?25hdone\n",
            "  Created wheel for ta: filename=ta-0.5.11-cp36-none-any.whl size=23029 sha256=7c19011adadc50a11702c4efc755911d211172c509d99b58b347be213dcc44be\n",
            "  Stored in directory: /root/.cache/pip/wheels/97/32/1d/cbc724a8ecaec6e426baf57ab8c4c2cdc687aadd7427280b1f\n",
            "Successfully built ta\n",
            "Installing collected packages: ta\n",
            "Successfully installed ta-0.5.11\n"
          ],
          "name": "stdout"
        }
      ]
    },
    {
      "cell_type": "code",
      "metadata": {
        "id": "RQTTIScPhyZU",
        "colab_type": "code",
        "colab": {}
      },
      "source": [
        "import ta\n",
        "\n",
        "# mfi dataframe\n",
        "df_mfi = pd.DataFrame(index=df_close.index)\n",
        "\n",
        "for ticker in df_close.columns:\n",
        "  temp = ta.momentum.money_flow_index(high=df_high[ticker], \n",
        "                                      low=df_low[ticker], \n",
        "                                      close=df_close[ticker], \n",
        "                                      volume=df_volume[ticker], \n",
        "                                      fillna=True)\n",
        "  df_mfi = pd.concat([df_mfi, temp], axis=1)\n",
        "\n",
        "df_mfi.columns = df_close.columns"
      ],
      "execution_count": 0,
      "outputs": []
    },
    {
      "cell_type": "code",
      "metadata": {
        "id": "LqEY0r-dhyVr",
        "colab_type": "code",
        "colab": {}
      },
      "source": [
        "# ema dataframe\n",
        "df_ema = df_close.apply(ta.trend.ema_indicator, fillna=True)"
      ],
      "execution_count": 0,
      "outputs": []
    },
    {
      "cell_type": "code",
      "metadata": {
        "id": "TE6cK9GYhyR7",
        "colab_type": "code",
        "colab": {}
      },
      "source": [
        "# rsi dataframe\n",
        "df_rsi = df_close.apply(ta.momentum.rsi, fillna=True)"
      ],
      "execution_count": 0,
      "outputs": []
    },
    {
      "cell_type": "code",
      "metadata": {
        "id": "ZuHDQVN4hyOM",
        "colab_type": "code",
        "colab": {}
      },
      "source": [
        "# stock_k and stock_d dataframes\n",
        "df_stock_k = pd.DataFrame(index=df_close.index)\n",
        "df_stock_d = pd.DataFrame(index=df_close.index)\n",
        "\n",
        "for ticker in df_close.columns:\n",
        "  temp = ta.momentum.stoch(high=df_high[ticker], \n",
        "                           low=df_low[ticker], \n",
        "                           close=df_close[ticker], \n",
        "                           fillna=True)\n",
        "  df_stock_k = pd.concat([df_stock_k, temp], axis=1)\n",
        "\n",
        "  temp = ta.momentum.stoch_signal(high=df_high[ticker], \n",
        "                                  low=df_low[ticker], \n",
        "                                  close=df_close[ticker], \n",
        "                                  fillna=True)\n",
        "  df_stock_d = pd.concat([df_stock_d, temp], axis=1)\n",
        "\n",
        "df_stock_k.columns = df_close.columns\n",
        "df_stock_d.columns = df_close.columns"
      ],
      "execution_count": 0,
      "outputs": []
    },
    {
      "cell_type": "code",
      "metadata": {
        "id": "2wYwL-hyhyLS",
        "colab_type": "code",
        "colab": {}
      },
      "source": [
        "# macd dataframe\n",
        "df_macd = df_close.apply(ta.trend.macd_diff, fillna=True)"
      ],
      "execution_count": 0,
      "outputs": []
    },
    {
      "cell_type": "code",
      "metadata": {
        "id": "4w_HLYh9hyHz",
        "colab_type": "code",
        "colab": {}
      },
      "source": [
        "# william_r dataframe\n",
        "df_will_r = pd.DataFrame(index=df_close.index)\n",
        "\n",
        "for ticker in df_close.columns: \n",
        "  temp = ta.momentum.wr(high=df_high[ticker], \n",
        "                        low=df_low[ticker], \n",
        "                        close=df_close[ticker], \n",
        "                        fillna=True)\n",
        "  df_will_r = pd.concat([df_will_r, temp], axis=1)\n",
        "\n",
        "df_will_r.columns = df_close.columns"
      ],
      "execution_count": 0,
      "outputs": []
    },
    {
      "cell_type": "code",
      "metadata": {
        "id": "UuuljF1RhyEG",
        "colab_type": "code",
        "colab": {}
      },
      "source": [
        "# cci dataframe\n",
        "df_cci = pd.DataFrame(index=df_close.index)\n",
        "\n",
        "for ticker in df_close.columns: \n",
        "  temp = ta.trend.cci(high=df_high[ticker], \n",
        "                      low=df_low[ticker], \n",
        "                      close=df_close[ticker], \n",
        "                      fillna=True)\n",
        "  df_cci = pd.concat([df_cci, temp], axis=1)\n",
        "\n",
        "df_cci.columns = df_close.columns"
      ],
      "execution_count": 0,
      "outputs": []
    },
    {
      "cell_type": "code",
      "metadata": {
        "id": "vcHRADvPZqfw",
        "colab_type": "code",
        "colab": {}
      },
      "source": [
        "# ichi_a and ichi_b dataframe\n",
        "df_ichi_a = pd.DataFrame(index=df_close.index)\n",
        "df_ichi_b = pd.DataFrame(index=df_close.index)\n",
        "\n",
        "# loop over all tickers\n",
        "for ticker in df_close.columns:\n",
        "    # calculate ichi_a\n",
        "    temp = ta.trend.ichimoku_a(high=df_high[ticker],\n",
        "                               low=df_low[ticker],\n",
        "                              fillna=True)\n",
        "    # concatenate with main dataframe\n",
        "    df_ichi_a = pd.concat([df_ichi_a, temp], axis=1)\n",
        "    \n",
        "    # calculate ichi_b\n",
        "    temp = ta.trend.ichimoku_b(high=df_high[ticker],\n",
        "                               low=df_low[ticker],\n",
        "                              fillna=True)\n",
        "    # concatenate with main dataframe\n",
        "    df_ichi_b = pd.concat([df_ichi_b, temp], axis=1)\n",
        "\n",
        "# rename the columns\n",
        "df_ichi_a.columns = df_close.columns\n",
        "df_ichi_b.columns = df_close.columns"
      ],
      "execution_count": 0,
      "outputs": []
    },
    {
      "cell_type": "code",
      "metadata": {
        "id": "c8k4nT_Zw3i4",
        "colab_type": "code",
        "colab": {}
      },
      "source": [
        "# A/D dataframe\n",
        "df_ad = pd.DataFrame(index=df_close.index)\n",
        "\n",
        "# loop over all tickers\n",
        "for ticker in df_close.columns:\n",
        "    # calculate cci\n",
        "    temp = ta.volume.acc_dist_index(high=df_high[ticker],\n",
        "                                    low=df_low[ticker],\n",
        "                                    close=df_close[ticker],\n",
        "                                    volume=df_volume[ticker],\n",
        "                                    fillna=True\n",
        "                                   )\n",
        "    # concatenate with main dataframe\n",
        "    df_ad = pd.concat([df_ad, temp], axis=1)\n",
        "\n",
        "# rename the columns\n",
        "df_ad.columns = df_close.columns"
      ],
      "execution_count": 0,
      "outputs": []
    },
    {
      "cell_type": "code",
      "metadata": {
        "id": "Y1AwbayWw3eb",
        "colab_type": "code",
        "colab": {}
      },
      "source": [
        "# Calculate upper and lower band\n",
        "df_bb_up = df_close.apply(ta.volatility.bollinger_hband, fillna=True)\n",
        "df_bb_down = df_close.apply(ta.volatility.bollinger_lband, fillna=True)"
      ],
      "execution_count": 0,
      "outputs": []
    },
    {
      "cell_type": "markdown",
      "metadata": {
        "id": "WaQjDfUrOi4e",
        "colab_type": "text"
      },
      "source": [
        "## Train/Validation/Test split"
      ]
    },
    {
      "cell_type": "code",
      "metadata": {
        "id": "IwIjWf4_w3ak",
        "colab_type": "code",
        "colab": {}
      },
      "source": [
        "# create lists of dataframes and their names\n",
        "dataframes = [df_open, df_high, df_low, df_close, df_volume, df_rtn, df_hl,\n",
        "              df_mfi, df_ema, df_rsi, df_stock_k, df_stock_d, df_macd, df_will_r, df_cci,\n",
        "              df_ichi_a, df_ichi_b, df_ad, df_bb_up, df_bb_down, df_ftr_rtn]\n",
        "names = [\"open\", \"high\", \"low\", \"close\", \"volume\", \"rtn\", \"hl\",\n",
        "         \"mfi\", \"ema\", \"rsi\", \"stock_k\", \"stock_d\", \"macd\", \"will_r\", \"cci\",\n",
        "         \"ichi_a\", \"ichi_b\", \"ad\", \"bb_up\", \"bb_down\", \"ftr_rtn\"]\n",
        "\n",
        "assert len(dataframes) == len(names), \"Length is not the same\"\n",
        "\n",
        "# remove dates prior to 2015-02-01 and date 2018-06-29\n",
        "dataframes = [df[df.index >= \"2015-02-01\"] for df in dataframes]\n",
        "dataframes = [df[df.index != \"2018-06-29\"] for df in dataframes]"
      ],
      "execution_count": 0,
      "outputs": []
    },
    {
      "cell_type": "code",
      "metadata": {
        "id": "kDZmwEJbw3W-",
        "colab_type": "code",
        "colab": {}
      },
      "source": [
        "# create a correlation headmap of the average correlations between features\n",
        "import seaborn as sns\n",
        "\n",
        "corr_val = np.empty([len(dataframes), len(dataframes)])\n",
        "\n",
        "# loop over each dataframe and find correlation\n",
        "for i, df1 in enumerate(dataframes):\n",
        "  for j, df2 in enumerate(dataframes):\n",
        "    corr_val[i][j] = df1.corrwith(df2).mean()"
      ],
      "execution_count": 0,
      "outputs": []
    },
    {
      "cell_type": "code",
      "metadata": {
        "id": "GC5dEo1aw3SU",
        "colab_type": "code",
        "colab": {
          "base_uri": "https://localhost:8080/",
          "height": 863
        },
        "outputId": "1727597f-897b-441e-f92e-089a4d7ddf1a"
      },
      "source": [
        "# plot correlation matrix\n",
        "fig, ax = plt.subplots(figsize=(15, 15))\n",
        "df_corr = pd.DataFrame(corr_val, columns=names, index=names)\n",
        "\n",
        "sns.heatmap(df_corr, vmin=-1, vmax=1, center=0, \n",
        "            cmap=sns.diverging_palette(20, 220, n=500), \n",
        "            square=True, ax=ax)\n",
        "\n",
        "ax.set_xticklabels(ax.get_xticklabels(), rotation=45, horizontalalignment='right')\n",
        "\n",
        "ax.set_title(\"Average correlation heatmap\")"
      ],
      "execution_count": 24,
      "outputs": [
        {
          "output_type": "execute_result",
          "data": {
            "text/plain": [
              "Text(0.5, 1, 'Average correlation heatmap')"
            ]
          },
          "metadata": {
            "tags": []
          },
          "execution_count": 24
        },
        {
          "output_type": "display_data",
          "data": {
            "image/png": "[encoded data removed]",
            "text/plain": [
              "<Figure size 1080x1080 with 2 Axes>"
            ]
          },
          "metadata": {
            "tags": []
          }
        }
      ]
    },
    {
      "cell_type": "markdown",
      "metadata": {
        "id": "56qH426YUrK3",
        "colab_type": "text"
      },
      "source": [
        "__Note__: baed on correlation and outliers reasoning, the following features will be included: close, rtn, ema, rsi, stoch_k, stock_d, macd, cci, ichi_a, ichi_b, bb_up, bb_down"
      ]
    },
    {
      "cell_type": "code",
      "metadata": {
        "id": "QPDCXEDsVUJr",
        "colab_type": "code",
        "colab": {
          "base_uri": "https://localhost:8080/",
          "height": 295
        },
        "outputId": "b46e4f1a-6dd7-4e61-f2ce-b335db4dfd5c"
      },
      "source": [
        "# create a target variable\n",
        "df_target = (df_ftr_rtn > 0).astype(int)\n",
        "\n",
        "# Look at the proportion\n",
        "values, counts = np.unique(df_target.values.reshape(df_target.shape[0]*df_target.shape[1]), return_counts=True)\n",
        "plt.bar(values,counts,tick_label=['DOWN','UP'])\n",
        "plt.title('Number of UPs and DOWNs')\n",
        "plt.ylabel('Total number')\n",
        "plt.xlabel('Categories')\n",
        "plt.show()"
      ],
      "execution_count": 25,
      "outputs": [
        {
          "output_type": "display_data",
          "data": {
            "image/png": "[encoded data removed]",
            "text/plain": [
              "<Figure size 432x288 with 1 Axes>"
            ]
          },
          "metadata": {
            "tags": []
          }
        }
      ]
    },
    {
      "cell_type": "code",
      "metadata": {
        "id": "Ri4eGtLIw3N_",
        "colab_type": "code",
        "colab": {}
      },
      "source": [
        "# create final list of features and their names\n",
        "dataframes = [df_close, df_rtn, df_ema, df_rsi, df_stock_k, df_stock_d, df_macd, df_cci,\n",
        "              df_ichi_a, df_ichi_b, df_bb_up, df_bb_down, df_target]\n",
        "names = [\"close\", \"rtn\", \"ema\", \"rsi\", \"stock_k\", \"stock_d\", \"macd\", \"cci\",\n",
        "         \"ichi_a\", \"ichi_b\", \"bb_up\", \"bb_down\", \"target\"]\n",
        "\n",
        "assert len(dataframes) == len(names)"
      ],
      "execution_count": 0,
      "outputs": []
    },
    {
      "cell_type": "markdown",
      "metadata": {
        "id": "oWKapac9VyU7",
        "colab_type": "text"
      },
      "source": [
        "# Training"
      ]
    },
    {
      "cell_type": "code",
      "metadata": {
        "id": "qy3Nryvbw3Jr",
        "colab_type": "code",
        "colab": {}
      },
      "source": [
        "# create training, evaluation and testing dataframes\n",
        "dataframes_train = []\n",
        "dataframes_eval = []\n",
        "dataframes_test = []\n",
        "for df in dataframes:\n",
        "  dataframes_train.append(df.iloc[df.index < \"2017-07-01\"])\n",
        "  dataframes_eval.append(df.iloc[(df.index >= \"2017-07-01\") & (df.index < \"2018-01-01\")])\n",
        "  dataframes_test.append(df.iloc[df.index >= \"2018-01-01\"])"
      ],
      "execution_count": 0,
      "outputs": []
    },
    {
      "cell_type": "code",
      "metadata": {
        "id": "SbxXAtO-w3GI",
        "colab_type": "code",
        "colab": {}
      },
      "source": [
        "from sklearn.preprocessing import MinMaxScaler\n",
        "\n",
        "# define normalizers\n",
        "normalizers = []\n",
        "\n",
        "for i, df in enumerate(dataframes_train[:-1]):\n",
        "  # create normalizer object\n",
        "  normalizers.append(MinMaxScaler(feature_range=(0,1)))\n",
        "\n",
        "  # columns and indexes\n",
        "  columns = dataframes_train[i].columns\n",
        "  index_train = dataframes_train[i].index\n",
        "  index_eval = dataframes_eval[i].index\n",
        "  index_test = dataframes_test[i].index\n",
        "\n",
        "  # fit normalizer\n",
        "  normalizers[i].fit(dataframes_train[i])\n",
        "\n",
        "  # transform\n",
        "  train_data = normalizers[i].transform(dataframes_train[i])\n",
        "  eval_data = normalizers[i].transform(dataframes_eval[i])\n",
        "  test_data = normalizers[i].transform(dataframes_test[i])\n",
        "\n",
        "  # replace lists\n",
        "  dataframes_train[i] = pd.DataFrame(train_data, columns=columns, index=index_train)\n",
        "  dataframes_eval[i] = pd.DataFrame(eval_data, columns=columns, index=index_eval)\n",
        "  dataframes_test[i] = pd.DataFrame(test_data, columns=columns, index=index_test)"
      ],
      "execution_count": 0,
      "outputs": []
    },
    {
      "cell_type": "code",
      "metadata": {
        "id": "tr5Gblolw3DG",
        "colab_type": "code",
        "colab": {}
      },
      "source": [
        "# scale data to have mean 0 and unit variance\n",
        "from sklearn.preprocessing import StandardScaler\n",
        "\n",
        "# define scalers\n",
        "scalers = []\n",
        "\n",
        "for i, df in enumerate(dataframes_train[:-1]):\n",
        "  # create scalers object\n",
        "  scalers.append(StandardScaler())\n",
        "\n",
        "  # columns and indexes\n",
        "  columns = dataframes_train[i].columns\n",
        "  index_train = dataframes_train[i].index\n",
        "  index_eval = dataframes_eval[i].index\n",
        "  index_test = dataframes_test[i].index\n",
        "\n",
        "  # fit scaler\n",
        "  flat_arr = dataframes_train[i].values.reshape(dataframes_train[i].shape[0]*dataframes_train[i].shape[1], 1)\n",
        "  scalers[i].fit(np.tile(flat_arr, dataframes_train[i].shape[1]))\n",
        "\n",
        "  # transform\n",
        "  train_data = scalers[i].transform(dataframes_train[i])\n",
        "  eval_data = scalers[i].transform(dataframes_eval[i])\n",
        "  test_data = scalers[i].transform(dataframes_test[i])\n",
        "\n",
        "  # replace lists\n",
        "  dataframes_train[i] = pd.DataFrame(train_data, columns=columns, index=index_train)\n",
        "  dataframes_eval[i] = pd.DataFrame(eval_data, columns=columns, index=index_eval)\n",
        "  dataframes_test[i] = pd.DataFrame(test_data, columns=columns, index=index_test)"
      ],
      "execution_count": 0,
      "outputs": []
    },
    {
      "cell_type": "markdown",
      "metadata": {
        "id": "9-5GlgCwmlv8",
        "colab_type": "text"
      },
      "source": [
        "Now, as data is scaled and normalized, it has to be transformed into a form, suitable for a network to be trained. 60 days of lookback period is used"
      ]
    },
    {
      "cell_type": "code",
      "metadata": {
        "id": "f_uxlfdXw3Bs",
        "colab_type": "code",
        "colab": {}
      },
      "source": [
        "from collections import deque\n",
        "import random\n",
        "\n",
        "SEQ_LEN = 60\n",
        "\n",
        "def sequence_data(df_list, shuffle=True):\n",
        "    # list containing the data\n",
        "    sequential_data = []\n",
        "\n",
        "    for ticker in df_close.columns:\n",
        "        # initialise dataframe\n",
        "        df_ticker = pd.DataFrame()\n",
        "\n",
        "        # concatenate the dataframes\n",
        "        for df in df_list:\n",
        "            df_ticker = pd.concat([df_ticker, df[ticker]], axis=1)\n",
        "\n",
        "        prev_days = deque(maxlen=SEQ_LEN)\n",
        "        # for values in every row\n",
        "        for i in df_ticker.values: \n",
        "            # remove the targets\n",
        "            prev_days.append([n for n in i[:-1]])  \n",
        "            # append when sequence length is reached\n",
        "            if len(prev_days) == SEQ_LEN: \n",
        "                sequential_data.append([np.array(prev_days), i[-1]])\n",
        "                \n",
        "        # shuffle - we do not need to do this for test set\n",
        "        if shuffle == True:\n",
        "            random.shuffle(sequential_data)\n",
        "\n",
        "    return sequential_data\n"
      ],
      "execution_count": 0,
      "outputs": []
    },
    {
      "cell_type": "code",
      "metadata": {
        "id": "i1EUHcMxw2-t",
        "colab_type": "code",
        "colab": {
          "base_uri": "https://localhost:8080/",
          "height": 68
        },
        "outputId": "90a27e79-9bb6-4417-92d9-ed0d5e0893fb"
      },
      "source": [
        "# sequence all datasets\n",
        "sequential_data_train = sequence_data(dataframes_train)\n",
        "sequential_data_eval = sequence_data(dataframes_eval)\n",
        "sequential_data_test = sequence_data(dataframes_test, shuffle=False)\n",
        "\n",
        "print(f\"Training data length: {len(sequential_data_train)}\")\n",
        "print(f\"Evaluation data length: {len(sequential_data_eval)}\")\n",
        "print(f\"Testing data length: {len(sequential_data_test)}\")"
      ],
      "execution_count": 31,
      "outputs": [
        {
          "output_type": "stream",
          "text": [
            "Training data length: 89804\n",
            "Evaluation data length: 10833\n",
            "Testing data length: 10205\n"
          ],
          "name": "stdout"
        }
      ]
    },
    {
      "cell_type": "code",
      "metadata": {
        "id": "muKCM2zXzUtJ",
        "colab_type": "code",
        "colab": {}
      },
      "source": [
        "# define function for balancing the data\n",
        "def balance_data(sequential_data):\n",
        "  ups = []\n",
        "  downs = []\n",
        "\n",
        "  # separate the sequences into ups and downs\n",
        "  for seq, target in sequential_data:\n",
        "    if target == 0:\n",
        "      downs.append([seq, target])\n",
        "    elif target == 1:\n",
        "      ups.append([seq, target])\n",
        "\n",
        "  # shuffle to randomize\n",
        "  random.shuffle(ups)\n",
        "  random.shuffle(downs)\n",
        "\n",
        "  # get shorter length\n",
        "  lower = min(len(ups), len(downs))\n",
        "\n",
        "  # truncate lists to the shorter one\n",
        "  ups = ups[:lower]\n",
        "  downs = downs[:lower]\n",
        "\n",
        "  sequential_data = ups + downs\n",
        "  random.shuffle(sequential_data)\n",
        "\n",
        "  return sequential_data\n",
        "\n",
        "# define function for separating train features from target\n",
        "def separate_data(sequential_data):\n",
        "  X = []\n",
        "  y = []\n",
        "  for seq, target in sequential_data:\n",
        "    X.append(seq)\n",
        "    y.append(target)\n",
        "\n",
        "  return np.array(X), y"
      ],
      "execution_count": 0,
      "outputs": []
    },
    {
      "cell_type": "code",
      "metadata": {
        "id": "HSl5tpyczUo_",
        "colab_type": "code",
        "colab": {}
      },
      "source": [
        "train_x, train_y = separate_data(balance_data(sequential_data_train))\n",
        "validation_x, validation_y = separate_data(balance_data(sequential_data_eval))"
      ],
      "execution_count": 0,
      "outputs": []
    },
    {
      "cell_type": "code",
      "metadata": {
        "id": "p3KGbwE6zUkz",
        "colab_type": "code",
        "colab": {
          "base_uri": "https://localhost:8080/",
          "height": 678
        },
        "outputId": "2ac340c6-d2f1-4072-8503-37c624a8734f"
      },
      "source": [
        "# define model\n",
        "import tensorflow as tf\n",
        "from tensorflow.keras.models import Sequential, load_model\n",
        "from tensorflow.keras.layers import Dense, Dropout, LSTM, BatchNormalization\n",
        "from tensorflow.keras.callbacks import TensorBoard\n",
        "\n",
        "BATCH_SIZE = 64\n",
        "EPOCHS = 40\n",
        "\n",
        "model = Sequential()\n",
        "\n",
        "model.add(LSTM(128, input_shape=(train_x.shape[1:]), activation=\"tanh\", return_sequences=True))\n",
        "model.add(Dropout(0.2))\n",
        "model.add(BatchNormalization())\n",
        "\n",
        "model.add(LSTM(128, activation=\"tanh\", return_sequences=True))\n",
        "model.add(Dropout(0.2))\n",
        "model.add(BatchNormalization())\n",
        "\n",
        "model.add(LSTM(128, activation=\"tanh\"))\n",
        "model.add(Dropout(0.2))\n",
        "model.add(BatchNormalization())\n",
        "\n",
        "model.add(Dense(32, activation='relu'))\n",
        "model.add(Dropout(0.2))\n",
        "\n",
        "model.add(Dense(2, activation='softmax'))\n",
        "\n",
        "model.compile(loss=\"sparse_categorical_crossentropy\", \n",
        "              optimizer=tf.keras.optimizers.Adam(lr=0.001, decay=1e-6), \n",
        "              metrics=[\"accuracy\"])\n",
        "\n",
        "model.summary()\n"
      ],
      "execution_count": 34,
      "outputs": [
        {
          "output_type": "display_data",
          "data": {
            "text/html": [
              "<p style=\"color: red;\">\n",
              "The default version of TensorFlow in Colab will soon switch to TensorFlow 2.x.<br>\n",
              "We recommend you <a href=\"https://www.tensorflow.org/guide/migrate\" target=\"_blank\">upgrade</a> now \n",
              "or ensure your notebook will continue to use TensorFlow 1.x via the <code>%tensorflow_version 1.x</code> magic:\n",
              "<a href=\"https://colab.research.google.com/notebooks/tensorflow_version.ipynb\" target=\"_blank\">more info</a>.</p>\n"
            ],
            "text/plain": [
              "<IPython.core.display.HTML object>"
            ]
          },
          "metadata": {
            "tags": []
          }
        },
        {
          "output_type": "stream",
          "text": [
            "WARNING:tensorflow:From /usr/local/lib/python3.6/dist-packages/tensorflow_core/python/ops/resource_variable_ops.py:1630: calling BaseResourceVariable.__init__ (from tensorflow.python.ops.resource_variable_ops) with constraint is deprecated and will be removed in a future version.\n",
            "Instructions for updating:\n",
            "If using Keras pass *_constraint arguments to layers.\n",
            "Model: \"sequential\"\n",
            "_________________________________________________________________\n",
            "Layer (type)                 Output Shape              Param #   \n",
            "=================================================================\n",
            "lstm (LSTM)                  (None, 60, 128)           72192     \n",
            "_________________________________________________________________\n",
            "dropout (Dropout)            (None, 60, 128)           0         \n",
            "_________________________________________________________________\n",
            "batch_normalization (BatchNo (None, 60, 128)           512       \n",
            "_________________________________________________________________\n",
            "lstm_1 (LSTM)                (None, 60, 128)           131584    \n",
            "_________________________________________________________________\n",
            "dropout_1 (Dropout)          (None, 60, 128)           0         \n",
            "_________________________________________________________________\n",
            "batch_normalization_1 (Batch (None, 60, 128)           512       \n",
            "_________________________________________________________________\n",
            "lstm_2 (LSTM)                (None, 128)               131584    \n",
            "_________________________________________________________________\n",
            "dropout_2 (Dropout)          (None, 128)               0         \n",
            "_________________________________________________________________\n",
            "batch_normalization_2 (Batch (None, 128)               512       \n",
            "_________________________________________________________________\n",
            "dense (Dense)                (None, 32)                4128      \n",
            "_________________________________________________________________\n",
            "dropout_3 (Dropout)          (None, 32)                0         \n",
            "_________________________________________________________________\n",
            "dense_1 (Dense)              (None, 2)                 66        \n",
            "=================================================================\n",
            "Total params: 341,090\n",
            "Trainable params: 340,322\n",
            "Non-trainable params: 768\n",
            "_________________________________________________________________\n"
          ],
          "name": "stdout"
        }
      ]
    },
    {
      "cell_type": "code",
      "metadata": {
        "id": "e3a0uvtjzUbK",
        "colab_type": "code",
        "colab": {
          "base_uri": "https://localhost:8080/",
          "height": 139
        },
        "outputId": "8684d8a2-2c8a-45e0-bd5d-0b7b6938def1"
      },
      "source": [
        "# train model for 20 epochs\n",
        "history1 = model.fit(train_x, train_y, batch_size=BATCH_SIZE, epochs=20, validation_data=(validation_x, validation_y))\n",
        "model.save(\"model_1.h5\")"
      ],
      "execution_count": 0,
      "outputs": [
        {
          "output_type": "stream",
          "text": [
            "WARNING:tensorflow:From /usr/local/lib/python3.6/dist-packages/tensorflow_core/python/ops/math_grad.py:1424: where (from tensorflow.python.ops.array_ops) is deprecated and will be removed in a future version.\n",
            "Instructions for updating:\n",
            "Use tf.where in 2.0, which has the same broadcast rule as np.where\n",
            "Train on 69196 samples, validate on 8664 samples\n",
            "Epoch 1/20\n",
            "20480/69196 [=======>......................] - ETA: 3:00 - loss: 0.6976 - acc: 0.4998"
          ],
          "name": "stdout"
        }
      ]
    },
    {
      "cell_type": "code",
      "metadata": {
        "id": "cirG04JPV4uB",
        "colab_type": "code",
        "colab": {}
      },
      "source": [
        "# train model for another 20 epochs\n",
        "history2 = model.fit(train_x, train_y, batch_size=BATCH_SIZE, epochs=20, validation_data=(validation_x, validation_y))\n",
        "model.save(\"model_2.h5\")"
      ],
      "execution_count": 0,
      "outputs": []
    },
    {
      "cell_type": "code",
      "metadata": {
        "id": "ZM8xgZDczUXz",
        "colab_type": "code",
        "colab": {}
      },
      "source": [
        "train_x.shape"
      ],
      "execution_count": 0,
      "outputs": []
    },
    {
      "cell_type": "code",
      "metadata": {
        "id": "eaDnA_PLzUVI",
        "colab_type": "code",
        "colab": {}
      },
      "source": [
        ""
      ],
      "execution_count": 0,
      "outputs": []
    },
    {
      "cell_type": "code",
      "metadata": {
        "id": "OBAiQI1DzURX",
        "colab_type": "code",
        "colab": {}
      },
      "source": [
        ""
      ],
      "execution_count": 0,
      "outputs": []
    }
  ]
}