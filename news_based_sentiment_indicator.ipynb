{
  "nbformat": 4,
  "nbformat_minor": 0,
  "metadata": {
    "colab": {
      "name": "news-based-sentiment-indicator.ipynb",
      "provenance": [],
      "mount_file_id": "1rfFP69YmSwXksREKwwRgIvVFwe9b73nb",
      "authorship_tag": "ABX9TyOTT7zWnmof+te0Z2raAerX",
      "include_colab_link": true
    },
    "kernelspec": {
      "name": "python3",
      "display_name": "Python 3"
    }
  },
  "cells": [
    {
      "cell_type": "markdown",
      "metadata": {
        "id": "view-in-github",
        "colab_type": "text"
      },
      "source": [
        "<a href=\"https://colab.research.google.com/github/kkt86/quant-notebooks/blob/master/news_based_sentiment_indicator.ipynb\" target=\"_parent\"><img src=\"https://colab.research.google.com/assets/colab-badge.svg\" alt=\"Open In Colab\"/></a>"
      ]
    },
    {
      "cell_type": "markdown",
      "metadata": {
        "id": "yP8ywB7m3Ut6",
        "colab_type": "text"
      },
      "source": [
        "# Building financial news sentiment"
      ]
    },
    {
      "cell_type": "code",
      "metadata": {
        "id": "7GvDUDZ43mFV",
        "colab_type": "code",
        "colab": {
          "base_uri": "https://localhost:8080/",
          "height": 204
        },
        "outputId": "aa5001f6-d374-4a2b-cd53-b7f4f206a2c9"
      },
      "source": [
        "import pandas as pd\n",
        "\n",
        "data = pd.read_table(\"drive/My Drive/colab data/analyst_ratings_processed.csv\", sep=\",\", nrows=100000, usecols=[1, 2, 3])\n",
        "\n",
        "data.head()"
      ],
      "execution_count": 103,
      "outputs": [
        {
          "output_type": "execute_result",
          "data": {
            "text/html": [
              "<div>\n",
              "<style scoped>\n",
              "    .dataframe tbody tr th:only-of-type {\n",
              "        vertical-align: middle;\n",
              "    }\n",
              "\n",
              "    .dataframe tbody tr th {\n",
              "        vertical-align: top;\n",
              "    }\n",
              "\n",
              "    .dataframe thead th {\n",
              "        text-align: right;\n",
              "    }\n",
              "</style>\n",
              "<table border=\"1\" class=\"dataframe\">\n",
              "  <thead>\n",
              "    <tr style=\"text-align: right;\">\n",
              "      <th></th>\n",
              "      <th>title</th>\n",
              "      <th>date</th>\n",
              "      <th>stock</th>\n",
              "    </tr>\n",
              "  </thead>\n",
              "  <tbody>\n",
              "    <tr>\n",
              "      <th>0</th>\n",
              "      <td>Stocks That Hit 52-Week Highs On Friday</td>\n",
              "      <td>2020-06-05 10:30:00-04:00</td>\n",
              "      <td>A</td>\n",
              "    </tr>\n",
              "    <tr>\n",
              "      <th>1</th>\n",
              "      <td>Stocks That Hit 52-Week Highs On Wednesday</td>\n",
              "      <td>2020-06-03 10:45:00-04:00</td>\n",
              "      <td>A</td>\n",
              "    </tr>\n",
              "    <tr>\n",
              "      <th>2</th>\n",
              "      <td>71 Biggest Movers From Friday</td>\n",
              "      <td>2020-05-26 04:30:00-04:00</td>\n",
              "      <td>A</td>\n",
              "    </tr>\n",
              "    <tr>\n",
              "      <th>3</th>\n",
              "      <td>46 Stocks Moving In Friday's Mid-Day Session</td>\n",
              "      <td>2020-05-22 12:45:00-04:00</td>\n",
              "      <td>A</td>\n",
              "    </tr>\n",
              "    <tr>\n",
              "      <th>4</th>\n",
              "      <td>B of A Securities Maintains Neutral on Agilent...</td>\n",
              "      <td>2020-05-22 11:38:00-04:00</td>\n",
              "      <td>A</td>\n",
              "    </tr>\n",
              "  </tbody>\n",
              "</table>\n",
              "</div>"
            ],
            "text/plain": [
              "                                               title  ... stock\n",
              "0            Stocks That Hit 52-Week Highs On Friday  ...     A\n",
              "1         Stocks That Hit 52-Week Highs On Wednesday  ...     A\n",
              "2                      71 Biggest Movers From Friday  ...     A\n",
              "3       46 Stocks Moving In Friday's Mid-Day Session  ...     A\n",
              "4  B of A Securities Maintains Neutral on Agilent...  ...     A\n",
              "\n",
              "[5 rows x 3 columns]"
            ]
          },
          "metadata": {
            "tags": []
          },
          "execution_count": 103
        }
      ]
    },
    {
      "cell_type": "markdown",
      "metadata": {
        "id": "L9gYdeBbEqNi",
        "colab_type": "text"
      },
      "source": [
        "## Fine tune Word2Vec with gensim"
      ]
    },
    {
      "cell_type": "code",
      "metadata": {
        "id": "b2l6UVXu599X",
        "colab_type": "code",
        "colab": {}
      },
      "source": [
        "from torchtext.data import Field\n",
        "import spacy\n",
        "\n",
        "def tokenize(sentence):\n",
        "  sentence = sentence.strip()\n",
        "  sentence = sentence.lower()\n",
        "  sentence = sentence.replace(\"\\n\", \" \")\n",
        "  return [tok.text for tok in en.tokenizer(sentence)]\n",
        "\n",
        "en = spacy.load(\"en_core_web_sm\")\n",
        "TEXT = Field(tokenize=tokenize, lower=True, init_token=\"<sos>\", eos_token=\"<eos>\")\n"
      ],
      "execution_count": 104,
      "outputs": []
    },
    {
      "cell_type": "code",
      "metadata": {
        "id": "HMOWrpkK_rEx",
        "colab_type": "code",
        "colab": {
          "base_uri": "https://localhost:8080/",
          "height": 88
        },
        "outputId": "22b81cc6-6168-4334-e12d-5d3c07e6382d"
      },
      "source": [
        "import gensim\n",
        "\n",
        "# WORD2VEC\n",
        "W2V_SIZE = 300\n",
        "W2V_WINDOW = 7\n",
        "W2V_EPOCH = 10\n",
        "W2V_MIN_COUNT = 50\n",
        "\n",
        "# Collect corpus for training word embeddings\n",
        "documents = [tokenize(text) for text in data[\"title\"]]\n",
        "\n",
        "# train word embeddings and save\n",
        "w2v_model = gensim.models.word2vec.Word2Vec(size=W2V_SIZE, window=W2V_WINDOW, min_count=W2V_MIN_COUNT)\n",
        "w2v_model.build_vocab(documents)\n",
        "words = w2v_model.wv.vocab.keys()\n",
        "vocab_size = len(words)\n",
        "print(f\"Vocab size: {vocab_size}\")\n",
        "\n",
        "w2v_model.train(documents, total_examples=len(documents), epochs=W2V_EPOCH)\n",
        "w2v_model.save(\"embeddings.txt\")"
      ],
      "execution_count": 105,
      "outputs": [
        {
          "output_type": "stream",
          "text": [
            "Vocab size: 2376\n"
          ],
          "name": "stdout"
        },
        {
          "output_type": "stream",
          "text": [
            "/usr/local/lib/python3.6/dist-packages/smart_open/smart_open_lib.py:253: UserWarning: This function is deprecated, use smart_open.open instead. See the migration notes for details: https://github.com/RaRe-Technologies/smart_open/blob/master/README.rst#migrating-to-the-new-open-function\n",
            "  'See the migration notes for details: %s' % _MIGRATION_NOTES_URL\n"
          ],
          "name": "stderr"
        }
      ]
    },
    {
      "cell_type": "markdown",
      "metadata": {
        "id": "ihFy6FB9FCZS",
        "colab_type": "text"
      },
      "source": [
        "## Load embeddings"
      ]
    },
    {
      "cell_type": "code",
      "metadata": {
        "id": "Eqnb6cwvBSSz",
        "colab_type": "code",
        "colab": {
          "base_uri": "https://localhost:8080/",
          "height": 71
        },
        "outputId": "37206228-13ac-4a7e-ccaf-61c1a96b7ce0"
      },
      "source": [
        "import torchtext.vocab as vocab\n",
        "from tqdm import tqdm_notebook\n",
        "\n",
        "# build vocab\n",
        "TEXT.build_vocab(data[\"title\"], min_freq=W2V_MIN_COUNT)\n",
        "\n",
        "w2v_model_new = gensim.models.word2vec.Word2Vec.load(\"embeddings.txt\")"
      ],
      "execution_count": 106,
      "outputs": [
        {
          "output_type": "stream",
          "text": [
            "/usr/local/lib/python3.6/dist-packages/smart_open/smart_open_lib.py:253: UserWarning: This function is deprecated, use smart_open.open instead. See the migration notes for details: https://github.com/RaRe-Technologies/smart_open/blob/master/README.rst#migrating-to-the-new-open-function\n",
            "  'See the migration notes for details: %s' % _MIGRATION_NOTES_URL\n"
          ],
          "name": "stderr"
        }
      ]
    },
    {
      "cell_type": "code",
      "metadata": {
        "id": "VaqV91ttBpJ_",
        "colab_type": "code",
        "colab": {
          "base_uri": "https://localhost:8080/",
          "height": 173
        },
        "outputId": "cb7bd5ae-94d2-4e0e-85ae-d4050db67751"
      },
      "source": [
        "positive_term = \"opportunity\"\n",
        "negative_term = \"bearish\"\n",
        "\n",
        "positive_dict = [term[0] for term in w2v_model.most_similar(positive_term)]\n",
        "negative_dict = [term[0] for term in w2v_model.most_similar(negative_term)]\n",
        "\n",
        "print(f\"Positive terms: {positive_dict}\")\n",
        "print(f\"Negative terms: {negative_dict}\")"
      ],
      "execution_count": 113,
      "outputs": [
        {
          "output_type": "stream",
          "text": [
            "Positive terms: ['attractive', 'opportunities', 'upside', 'valuation', \"'\", 'investing', 'even', 'our', 'recovery', 'position']\n",
            "Negative terms: ['negative', 'cautious', 'bullish', 'comments', 'stable', 'positive', 'pressure', 'optimistic', 'downgrade', 'recent']\n"
          ],
          "name": "stdout"
        },
        {
          "output_type": "stream",
          "text": [
            "/usr/local/lib/python3.6/dist-packages/ipykernel_launcher.py:4: DeprecationWarning: Call to deprecated `most_similar` (Method will be removed in 4.0.0, use self.wv.most_similar() instead).\n",
            "  after removing the cwd from sys.path.\n",
            "/usr/local/lib/python3.6/dist-packages/gensim/matutils.py:737: FutureWarning: Conversion of the second argument of issubdtype from `int` to `np.signedinteger` is deprecated. In future, it will be treated as `np.int64 == np.dtype(int).type`.\n",
            "  if np.issubdtype(vec.dtype, np.int):\n",
            "/usr/local/lib/python3.6/dist-packages/ipykernel_launcher.py:5: DeprecationWarning: Call to deprecated `most_similar` (Method will be removed in 4.0.0, use self.wv.most_similar() instead).\n",
            "  \"\"\"\n"
          ],
          "name": "stderr"
        }
      ]
    },
    {
      "cell_type": "code",
      "metadata": {
        "id": "tM0TYMpOK2bI",
        "colab_type": "code",
        "colab": {
          "base_uri": "https://localhost:8080/",
          "height": 187
        },
        "outputId": "ec37aca4-40d4-4a81-934d-5b7f1dc67456"
      },
      "source": [
        "def compute_index(sentences, dictionary):\n",
        "  titles = [tokenize(title) for title in sentences]\n",
        "  total_number_of_words = sum([len(title) for title in titles])\n",
        "  total_number_of_dictionary_terms = 0\n",
        "  for title in titles:\n",
        "    for word in title:\n",
        "      if word in dictionary:\n",
        "        total_number_of_dictionary_terms += 1\n",
        "  return float(total_number_of_dictionary_terms)/total_number_of_words*1000 if total_number_of_words > 0 else 0.0\n",
        "\n",
        "for stock in data[\"stock\"].unique()[:10]:\n",
        "  sentences = data[\"title\"][(data[\"stock\"] == stock)]\n",
        "  positive_sentiment_index = compute_index(sentences, positive_dict)\n",
        "  negative_sentiment_index = compute_index(sentences, negative_dict)\n",
        "  print(f\"Stock: {stock}, positive index: {positive_sentiment_index}, negative index: {negative_sentiment_index}\")\n"
      ],
      "execution_count": 114,
      "outputs": [
        {
          "output_type": "stream",
          "text": [
            "Stock: A, positive index: 3.469319511787327, negative index: 1.5047650894499247\n",
            "Stock: AAMC, positive index: 0.0, negative index: 0.0\n",
            "Stock: AAME, positive index: 2.472187886279357, negative index: 0.0\n",
            "Stock: AAN, positive index: 3.5194368900975843, negative index: 0.7998720204767237\n",
            "Stock: nan, positive index: 0.0, negative index: 0.0\n",
            "Stock: AAOI, positive index: 6.801592568015925, negative index: 2.9860650298606504\n",
            "Stock: AAON, positive index: 3.1965903036760785, negative index: 0.0\n",
            "Stock: AAP, positive index: 7.027276930189552, negative index: 1.3869625520110958\n",
            "Stock: AAPL, positive index: 25.16309412861137, negative index: 1.9970709625882042\n",
            "Stock: AAU, positive index: 4.3383947939262475, negative index: 0.0\n"
          ],
          "name": "stdout"
        }
      ]
    },
    {
      "cell_type": "code",
      "metadata": {
        "id": "9GAFdCVsK2Yd",
        "colab_type": "code",
        "colab": {
          "base_uri": "https://localhost:8080/",
          "height": 481
        },
        "outputId": "030669c7-a3cc-4e8f-b9e1-26a2dcad4cf2"
      },
      "source": [
        "# create aggregated data for result summary\n",
        "\n",
        "agg_data = data[[\"date\", \"stock\"]].groupby(\"stock\", as_index=False).agg([min, max])\n",
        "agg_data"
      ],
      "execution_count": 121,
      "outputs": [
        {
          "output_type": "execute_result",
          "data": {
            "text/html": [
              "<div>\n",
              "<style scoped>\n",
              "    .dataframe tbody tr th:only-of-type {\n",
              "        vertical-align: middle;\n",
              "    }\n",
              "\n",
              "    .dataframe tbody tr th {\n",
              "        vertical-align: top;\n",
              "    }\n",
              "\n",
              "    .dataframe thead tr th {\n",
              "        text-align: left;\n",
              "    }\n",
              "\n",
              "    .dataframe thead tr:last-of-type th {\n",
              "        text-align: right;\n",
              "    }\n",
              "</style>\n",
              "<table border=\"1\" class=\"dataframe\">\n",
              "  <thead>\n",
              "    <tr>\n",
              "      <th></th>\n",
              "      <th colspan=\"2\" halign=\"left\">date</th>\n",
              "    </tr>\n",
              "    <tr>\n",
              "      <th></th>\n",
              "      <th>min</th>\n",
              "      <th>max</th>\n",
              "    </tr>\n",
              "    <tr>\n",
              "      <th>stock</th>\n",
              "      <th></th>\n",
              "      <th></th>\n",
              "    </tr>\n",
              "  </thead>\n",
              "  <tbody>\n",
              "    <tr>\n",
              "      <th>A</th>\n",
              "      <td>2009-04-29 08:48:00-04:00</td>\n",
              "      <td>2020-06-05 10:30:00-04:00</td>\n",
              "    </tr>\n",
              "    <tr>\n",
              "      <th>AAMC</th>\n",
              "      <td>2014-02-26 16:49:00-05:00</td>\n",
              "      <td>2020-05-11 07:47:00-04:00</td>\n",
              "    </tr>\n",
              "    <tr>\n",
              "      <th>AAME</th>\n",
              "      <td>2010-04-28 15:15:00-04:00</td>\n",
              "      <td>2020-05-11 11:05:00-04:00</td>\n",
              "    </tr>\n",
              "    <tr>\n",
              "      <th>AAN</th>\n",
              "      <td>2009-08-10 07:27:00-04:00</td>\n",
              "      <td>2020-06-10 10:36:00-04:00</td>\n",
              "    </tr>\n",
              "    <tr>\n",
              "      <th>AAOI</th>\n",
              "      <td>2013-09-26 10:16:00-04:00</td>\n",
              "      <td>2020-05-11 05:14:00-04:00</td>\n",
              "    </tr>\n",
              "    <tr>\n",
              "      <th>...</th>\n",
              "      <td>...</td>\n",
              "      <td>...</td>\n",
              "    </tr>\n",
              "    <tr>\n",
              "      <th>ATAX</th>\n",
              "      <td>2010-09-02 16:24:00-04:00</td>\n",
              "      <td>2020-05-26 04:30:00-04:00</td>\n",
              "    </tr>\n",
              "    <tr>\n",
              "      <th>ATE</th>\n",
              "      <td>2009-08-13 16:41:00-04:00</td>\n",
              "      <td>2015-11-25 14:40:00-05:00</td>\n",
              "    </tr>\n",
              "    <tr>\n",
              "      <th>ATEC</th>\n",
              "      <td>2010-02-22 17:22:00-05:00</td>\n",
              "      <td>2020-05-11 16:22:00-04:00</td>\n",
              "    </tr>\n",
              "    <tr>\n",
              "      <th>ATEN</th>\n",
              "      <td>2014-03-10 06:11:00-04:00</td>\n",
              "      <td>2020-05-18 17:06:00-04:00</td>\n",
              "    </tr>\n",
              "    <tr>\n",
              "      <th>ATHM</th>\n",
              "      <td>2020-02-20 11:47:00-05:00</td>\n",
              "      <td>2020-06-01 06:28:00-04:00</td>\n",
              "    </tr>\n",
              "  </tbody>\n",
              "</table>\n",
              "<p>401 rows × 2 columns</p>\n",
              "</div>"
            ],
            "text/plain": [
              "                            date                           \n",
              "                             min                        max\n",
              "stock                                                      \n",
              "A      2009-04-29 08:48:00-04:00  2020-06-05 10:30:00-04:00\n",
              "AAMC   2014-02-26 16:49:00-05:00  2020-05-11 07:47:00-04:00\n",
              "AAME   2010-04-28 15:15:00-04:00  2020-05-11 11:05:00-04:00\n",
              "AAN    2009-08-10 07:27:00-04:00  2020-06-10 10:36:00-04:00\n",
              "AAOI   2013-09-26 10:16:00-04:00  2020-05-11 05:14:00-04:00\n",
              "...                          ...                        ...\n",
              "ATAX   2010-09-02 16:24:00-04:00  2020-05-26 04:30:00-04:00\n",
              "ATE    2009-08-13 16:41:00-04:00  2015-11-25 14:40:00-05:00\n",
              "ATEC   2010-02-22 17:22:00-05:00  2020-05-11 16:22:00-04:00\n",
              "ATEN   2014-03-10 06:11:00-04:00  2020-05-18 17:06:00-04:00\n",
              "ATHM   2020-02-20 11:47:00-05:00  2020-06-01 06:28:00-04:00\n",
              "\n",
              "[401 rows x 2 columns]"
            ]
          },
          "metadata": {
            "tags": []
          },
          "execution_count": 121
        }
      ]
    },
    {
      "cell_type": "code",
      "metadata": {
        "id": "105ugbzRK2Wd",
        "colab_type": "code",
        "colab": {
          "base_uri": "https://localhost:8080/",
          "height": 204
        },
        "outputId": "6f708817-4fd6-4a80-d543-b6005b3be2f3"
      },
      "source": [
        "data.head()"
      ],
      "execution_count": 115,
      "outputs": [
        {
          "output_type": "execute_result",
          "data": {
            "text/html": [
              "<div>\n",
              "<style scoped>\n",
              "    .dataframe tbody tr th:only-of-type {\n",
              "        vertical-align: middle;\n",
              "    }\n",
              "\n",
              "    .dataframe tbody tr th {\n",
              "        vertical-align: top;\n",
              "    }\n",
              "\n",
              "    .dataframe thead th {\n",
              "        text-align: right;\n",
              "    }\n",
              "</style>\n",
              "<table border=\"1\" class=\"dataframe\">\n",
              "  <thead>\n",
              "    <tr style=\"text-align: right;\">\n",
              "      <th></th>\n",
              "      <th>title</th>\n",
              "      <th>date</th>\n",
              "      <th>stock</th>\n",
              "    </tr>\n",
              "  </thead>\n",
              "  <tbody>\n",
              "    <tr>\n",
              "      <th>0</th>\n",
              "      <td>Stocks That Hit 52-Week Highs On Friday</td>\n",
              "      <td>2020-06-05 10:30:00-04:00</td>\n",
              "      <td>A</td>\n",
              "    </tr>\n",
              "    <tr>\n",
              "      <th>1</th>\n",
              "      <td>Stocks That Hit 52-Week Highs On Wednesday</td>\n",
              "      <td>2020-06-03 10:45:00-04:00</td>\n",
              "      <td>A</td>\n",
              "    </tr>\n",
              "    <tr>\n",
              "      <th>2</th>\n",
              "      <td>71 Biggest Movers From Friday</td>\n",
              "      <td>2020-05-26 04:30:00-04:00</td>\n",
              "      <td>A</td>\n",
              "    </tr>\n",
              "    <tr>\n",
              "      <th>3</th>\n",
              "      <td>46 Stocks Moving In Friday's Mid-Day Session</td>\n",
              "      <td>2020-05-22 12:45:00-04:00</td>\n",
              "      <td>A</td>\n",
              "    </tr>\n",
              "    <tr>\n",
              "      <th>4</th>\n",
              "      <td>B of A Securities Maintains Neutral on Agilent...</td>\n",
              "      <td>2020-05-22 11:38:00-04:00</td>\n",
              "      <td>A</td>\n",
              "    </tr>\n",
              "  </tbody>\n",
              "</table>\n",
              "</div>"
            ],
            "text/plain": [
              "                                               title  ... stock\n",
              "0            Stocks That Hit 52-Week Highs On Friday  ...     A\n",
              "1         Stocks That Hit 52-Week Highs On Wednesday  ...     A\n",
              "2                      71 Biggest Movers From Friday  ...     A\n",
              "3       46 Stocks Moving In Friday's Mid-Day Session  ...     A\n",
              "4  B of A Securities Maintains Neutral on Agilent...  ...     A\n",
              "\n",
              "[5 rows x 3 columns]"
            ]
          },
          "metadata": {
            "tags": []
          },
          "execution_count": 115
        }
      ]
    },
    {
      "cell_type": "code",
      "metadata": {
        "id": "Ui7_Eq6vK2Tr",
        "colab_type": "code",
        "colab": {}
      },
      "source": [
        ""
      ],
      "execution_count": null,
      "outputs": []
    },
    {
      "cell_type": "code",
      "metadata": {
        "id": "WooAH9zxK2Q9",
        "colab_type": "code",
        "colab": {}
      },
      "source": [
        ""
      ],
      "execution_count": null,
      "outputs": []
    },
    {
      "cell_type": "code",
      "metadata": {
        "id": "WKvT3fEeK2OL",
        "colab_type": "code",
        "colab": {}
      },
      "source": [
        ""
      ],
      "execution_count": null,
      "outputs": []
    },
    {
      "cell_type": "code",
      "metadata": {
        "id": "1phRs88BK2Kz",
        "colab_type": "code",
        "colab": {}
      },
      "source": [
        ""
      ],
      "execution_count": null,
      "outputs": []
    }
  ]
}