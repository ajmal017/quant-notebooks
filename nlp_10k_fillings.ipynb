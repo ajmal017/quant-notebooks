{
  "nbformat": 4,
  "nbformat_minor": 0,
  "metadata": {
    "colab": {
      "name": "nlp-10k.fillings.ipynb",
      "provenance": [],
      "collapsed_sections": [],
      "authorship_tag": "ABX9TyMcWATwQ4GZBYDcxX1ooOlN",
      "include_colab_link": true
    },
    "kernelspec": {
      "name": "python3",
      "display_name": "Python 3"
    }
  },
  "cells": [
    {
      "cell_type": "markdown",
      "metadata": {
        "id": "view-in-github",
        "colab_type": "text"
      },
      "source": [
        "<a href=\"https://colab.research.google.com/github/kkt86/quant-notebooks/blob/master/nlp_10k_fillings.ipynb\" target=\"_parent\"><img src=\"https://colab.research.google.com/assets/colab-badge.svg\" alt=\"Open In Colab\"/></a>"
      ]
    },
    {
      "cell_type": "markdown",
      "metadata": {
        "id": "b42Ko873qghp",
        "colab_type": "text"
      },
      "source": [
        "# NLP on 10k SEC fillings\n",
        "\n",
        "Original post at https://towardsdatascience.com/nlp-in-the-stock-market-8760d062eb92\n"
      ]
    },
    {
      "cell_type": "code",
      "metadata": {
        "id": "-LZfSNn8qbqr",
        "colab_type": "code",
        "colab": {}
      },
      "source": [
        "import nltk\n",
        "import numpy as np\n",
        "import pandas as pd\n",
        "import pickle\n",
        "import pprint"
      ],
      "execution_count": 0,
      "outputs": []
    },
    {
      "cell_type": "markdown",
      "metadata": {
        "id": "agfwi_UorCqq",
        "colab_type": "text"
      },
      "source": [
        "### Implement helper functions from the original project\n",
        "Original code at https://github.com/roshan-adusumilli/nlp_10-ks/blob/master/project_helper.py"
      ]
    },
    {
      "cell_type": "code",
      "metadata": {
        "id": "aFzg5ceardJx",
        "colab_type": "code",
        "colab": {
          "base_uri": "https://localhost:8080/",
          "height": 187
        },
        "outputId": "2469bdae-b445-4586-a8fb-2e24f97786d8"
      },
      "source": [
        "%%bash\n",
        "pip install ratelimit "
      ],
      "execution_count": 2,
      "outputs": [
        {
          "output_type": "stream",
          "text": [
            "Collecting ratelimit\n",
            "  Downloading https://files.pythonhosted.org/packages/ab/38/ff60c8fc9e002d50d48822cc5095deb8ebbc5f91a6b8fdd9731c87a147c9/ratelimit-2.2.1.tar.gz\n",
            "Building wheels for collected packages: ratelimit\n",
            "  Building wheel for ratelimit (setup.py): started\n",
            "  Building wheel for ratelimit (setup.py): finished with status 'done'\n",
            "  Created wheel for ratelimit: filename=ratelimit-2.2.1-cp36-none-any.whl size=5893 sha256=264eb650f18db689a66cb443fd30f7474190e86843b3c3148f3b85ab3ec05819\n",
            "  Stored in directory: /root/.cache/pip/wheels/05/d9/82/3c6044cf1a54aab9151612458446d9b17a38416869e1b1d9b8\n",
            "Successfully built ratelimit\n",
            "Installing collected packages: ratelimit\n",
            "Successfully installed ratelimit-2.2.1\n"
          ],
          "name": "stdout"
        }
      ]
    },
    {
      "cell_type": "code",
      "metadata": {
        "id": "tsh_p2AbrAvz",
        "colab_type": "code",
        "colab": {}
      },
      "source": [
        "import matplotlib.pyplot as plt\n",
        "import requests\n",
        "\n",
        "from ratelimit import limits, sleep_and_retry\n",
        "\n",
        "class SecAPI(object):\n",
        "    SEC_CALL_LIMIT = {'calls': 10, 'seconds': 1}\n",
        "\n",
        "    @staticmethod\n",
        "    @sleep_and_retry\n",
        "    # Dividing the call limit by half to avoid coming close to the limit\n",
        "    @limits(calls=SEC_CALL_LIMIT['calls'] / 2, period=SEC_CALL_LIMIT['seconds'])\n",
        "    def _call_sec(url):\n",
        "        return requests.get(url)\n",
        "\n",
        "    def get(self, url):\n",
        "        return self._call_sec(url).text\n",
        "\n",
        "\n",
        "def print_ten_k_data(ten_k_data, fields, field_length_limit=50):\n",
        "    indentation = '  '\n",
        "\n",
        "    print('[')\n",
        "    for ten_k in ten_k_data:\n",
        "        print_statement = '{}{{'.format(indentation)\n",
        "        for field in fields:\n",
        "            value = str(ten_k[field])\n",
        "\n",
        "            # Show return lines in output\n",
        "            if isinstance(value, str):\n",
        "                value_str = '\\'{}\\''.format(value.replace('\\n', '\\\\n'))\n",
        "            else:\n",
        "                value_str = str(value)\n",
        "\n",
        "            # Cut off the string if it gets too long\n",
        "            if len(value_str) > field_length_limit:\n",
        "                value_str = value_str[:field_length_limit] + '...'\n",
        "\n",
        "            print_statement += '\\n{}{}: {}'.format(indentation * 2, field, value_str)\n",
        "\n",
        "        print_statement += '},'\n",
        "        print(print_statement)\n",
        "    print(']')\n",
        "\n",
        "\n",
        "def plot_similarities(similarities_list, dates, title, labels):\n",
        "    assert len(similarities_list) == len(labels)\n",
        "\n",
        "    plt.figure(1, figsize=(10, 7))\n",
        "    for similarities, label in zip(similarities_list, labels):\n",
        "        plt.title(title)\n",
        "        plt.plot(dates, similarities, label=label)\n",
        "        plt.legend()\n",
        "        plt.xticks(rotation=90)\n",
        "\n",
        "    plt.show()\n"
      ],
      "execution_count": 0,
      "outputs": []
    },
    {
      "cell_type": "code",
      "metadata": {
        "id": "GnjDHx5roh13",
        "colab_type": "code",
        "colab": {
          "base_uri": "https://localhost:8080/",
          "height": 102
        },
        "outputId": "574cd2c1-9d76-44db-f7e0-0e8ac9bd50cb"
      },
      "source": [
        "nltk.download(\"stopwords\")\n",
        "nltk.download(\"wordnet\")"
      ],
      "execution_count": 7,
      "outputs": [
        {
          "output_type": "stream",
          "text": [
            "[nltk_data] Downloading package stopwords to /root/nltk_data...\n",
            "[nltk_data]   Package stopwords is already up-to-date!\n",
            "[nltk_data] Downloading package wordnet to /root/nltk_data...\n",
            "[nltk_data]   Unzipping corpora/wordnet.zip.\n"
          ],
          "name": "stdout"
        },
        {
          "output_type": "execute_result",
          "data": {
            "text/plain": [
              "True"
            ]
          },
          "metadata": {
            "tags": []
          },
          "execution_count": 7
        }
      ]
    },
    {
      "cell_type": "code",
      "metadata": {
        "id": "hPNMs3VvpHiN",
        "colab_type": "code",
        "colab": {}
      },
      "source": [
        "cik_lookup = {\n",
        "    'AMZN': '0001018724',\n",
        "    'BMY': '0000014272',   \n",
        "    'CNP': '0001130310',\n",
        "    'CVX': '0000093410',\n",
        "    'FL': '0000850209',\n",
        "    'FRT': '0000034903',\n",
        "    'HON': '0000773840'\n",
        "    }"
      ],
      "execution_count": 0,
      "outputs": []
    },
    {
      "cell_type": "code",
      "metadata": {
        "id": "Deyx-K6QpL78",
        "colab_type": "code",
        "colab": {}
      },
      "source": [
        "from bs4 import BeautifulSoup\n",
        "\n",
        "# pull 10-k from SEC\n",
        "sec_api = SecAPI()\n",
        "\n",
        "def get_sec_data(cik, doc_type, start=0, count=60):\n",
        "  rss_url = 'https://www.sec.gov/cgi-bin/browse-edgar?action=getcompany' \\\n",
        "        '&CIK={}&type={}&start={}&count={}&owner=exclude&output=atom' \\\n",
        "        .format(cik, doc_type, start, count)\n",
        "  sec_data = sec_api.get(rss_url)\n",
        "  feed = BeautifulSoup(sec_data.encode(\"ascii\"), \"xml\").feed\n",
        "  entries = [(entry.content.find(\"filing-href\").getText(),\n",
        "              entry.content.find(\"filing-type\").getText(),\n",
        "              entry.content.find(\"filing-date\").getText()\n",
        "             ) for entry in feed.find_all(\"entry\", recursive=False)]\n",
        "  return entries"
      ],
      "execution_count": 0,
      "outputs": []
    },
    {
      "cell_type": "code",
      "metadata": {
        "id": "wXWwWlG-qano",
        "colab_type": "code",
        "colab": {}
      },
      "source": [
        "example_ticker = \"AMZN\"\n",
        "sec_data = {}\n",
        "\n",
        "for ticker, cik in cik_lookup.items():\n",
        "  sec_data[ticker] = get_sec_data(cik, \"10-K\") # can switch to 10-Q "
      ],
      "execution_count": 0,
      "outputs": []
    },
    {
      "cell_type": "code",
      "metadata": {
        "id": "3BNRAtW4qalQ",
        "colab_type": "code",
        "colab": {
          "base_uri": "https://localhost:8080/",
          "height": 272
        },
        "outputId": "eae272da-508e-4f8e-d369-518db40865f7"
      },
      "source": [
        "pprint.pprint(sec_data[example_ticker][:5])"
      ],
      "execution_count": 14,
      "outputs": [
        {
          "output_type": "stream",
          "text": [
            "[('https://www.sec.gov/Archives/edgar/data/1018724/000101872420000004/0001018724-20-000004-index.htm',\n",
            "  '10-K',\n",
            "  '2020-01-31'),\n",
            " ('https://www.sec.gov/Archives/edgar/data/1018724/000101872419000004/0001018724-19-000004-index.htm',\n",
            "  '10-K',\n",
            "  '2019-02-01'),\n",
            " ('https://www.sec.gov/Archives/edgar/data/1018724/000101872418000005/0001018724-18-000005-index.htm',\n",
            "  '10-K',\n",
            "  '2018-02-02'),\n",
            " ('https://www.sec.gov/Archives/edgar/data/1018724/000101872417000011/0001018724-17-000011-index.htm',\n",
            "  '10-K',\n",
            "  '2017-02-10'),\n",
            " ('https://www.sec.gov/Archives/edgar/data/1018724/000101872416000172/0001018724-16-000172-index.htm',\n",
            "  '10-K',\n",
            "  '2016-01-29')]\n"
          ],
          "name": "stdout"
        }
      ]
    },
    {
      "cell_type": "code",
      "metadata": {
        "id": "y2zUmE2qwhpb",
        "colab_type": "code",
        "colab": {
          "base_uri": "https://localhost:8080/",
          "height": 136
        },
        "outputId": "6b520148-16cf-4e79-e197-4389834f4b7a"
      },
      "source": [
        "# import raw filings\n",
        "from tqdm import tqdm\n",
        "\n",
        "raw_filings_by_ticker = {}\n",
        "\n",
        "for ticker, data in sec_data.items():\n",
        "  raw_filings_by_ticker[ticker] = {}\n",
        "  for index_url, file_type, file_date in tqdm(data, desc=f\"Downloading {ticker} Fillings\", unit=\" filling\"):\n",
        "    if (file_type == \"10-K\"):\n",
        "      file_url = index_url.replace(\"-index.htm\", \".txt\").replace(\".txt1\", \".txt\")\n",
        "      raw_filings_by_ticker[ticker][file_date] = sec_api.get(file_url)"
      ],
      "execution_count": 18,
      "outputs": [
        {
          "output_type": "stream",
          "text": [
            "Downloading AMZN Fillings: 100%|██████████| 25/25 [00:07<00:00,  3.37filling/s]\n",
            "Downloading BMY Fillings: 100%|██████████| 29/29 [00:09<00:00,  4.84filling/s]\n",
            "Downloading CNP Fillings: 100%|██████████| 21/21 [00:06<00:00,  3.17filling/s]\n",
            "Downloading CVX Fillings: 100%|██████████| 27/27 [00:10<00:00,  5.47filling/s]\n",
            "Downloading FL Fillings: 100%|██████████| 24/24 [00:10<00:00,  2.38filling/s]\n",
            "Downloading FRT Fillings: 100%|██████████| 31/31 [00:07<00:00,  6.61filling/s]\n",
            "Downloading HON Fillings: 100%|██████████| 27/27 [00:13<00:00,  2.01filling/s]\n"
          ],
          "name": "stderr"
        }
      ]
    },
    {
      "cell_type": "code",
      "metadata": {
        "id": "qNEiUygswhoN",
        "colab_type": "code",
        "colab": {
          "base_uri": "https://localhost:8080/",
          "height": 955
        },
        "outputId": "6773eacd-95bc-4a5a-91df-bffd32d13cb0"
      },
      "source": [
        "print(\"Example Document \\n\\n{}\".format(next(iter(raw_filings_by_ticker[example_ticker].values()))[:10000]))"
      ],
      "execution_count": 23,
      "outputs": [
        {
          "output_type": "stream",
          "text": [
            "Example Document \n",
            "\n",
            "<SEC-DOCUMENT>0001018724-20-000004.txt : 20200131\n",
            "<SEC-HEADER>0001018724-20-000004.hdr.sgml : 20200131\n",
            "<ACCEPTANCE-DATETIME>20200130204613\n",
            "ACCESSION NUMBER:\t\t0001018724-20-000004\n",
            "CONFORMED SUBMISSION TYPE:\t10-K\n",
            "PUBLIC DOCUMENT COUNT:\t\t109\n",
            "CONFORMED PERIOD OF REPORT:\t20191231\n",
            "FILED AS OF DATE:\t\t20200131\n",
            "DATE AS OF CHANGE:\t\t20200130\n",
            "\n",
            "FILER:\n",
            "\n",
            "\tCOMPANY DATA:\t\n",
            "\t\tCOMPANY CONFORMED NAME:\t\t\tAMAZON COM INC\n",
            "\t\tCENTRAL INDEX KEY:\t\t\t0001018724\n",
            "\t\tSTANDARD INDUSTRIAL CLASSIFICATION:\tRETAIL-CATALOG & MAIL-ORDER HOUSES [5961]\n",
            "\t\tIRS NUMBER:\t\t\t\t911646860\n",
            "\t\tSTATE OF INCORPORATION:\t\t\tDE\n",
            "\t\tFISCAL YEAR END:\t\t\t1231\n",
            "\n",
            "\tFILING VALUES:\n",
            "\t\tFORM TYPE:\t\t10-K\n",
            "\t\tSEC ACT:\t\t1934 Act\n",
            "\t\tSEC FILE NUMBER:\t000-22513\n",
            "\t\tFILM NUMBER:\t\t20562951\n",
            "\n",
            "\tBUSINESS ADDRESS:\t\n",
            "\t\tSTREET 1:\t\t410 TERRY AVENUE NORTH\n",
            "\t\tCITY:\t\t\tSEATTLE\n",
            "\t\tSTATE:\t\t\tWA\n",
            "\t\tZIP:\t\t\t98109\n",
            "\t\tBUSINESS PHONE:\t\t2062661000\n",
            "\n",
            "\tMAIL ADDRESS:\t\n",
            "\t\tSTREET 1:\t\t410 TERRY AVENUE NORTH\n",
            "\t\tCITY:\t\t\tSEATTLE\n",
            "\t\tSTATE:\t\t\tWA\n",
            "\t\tZIP:\t\t\t98109\n",
            "</SEC-HEADER>\n",
            "<DOCUMENT>\n",
            "<TYPE>10-K\n",
            "<SEQUENCE>1\n",
            "<FILENAME>amzn-20191231x10k.htm\n",
            "<DESCRIPTION>10-K\n",
            "<TEXT>\n",
            "<XBRL>\n",
            "<?xml version=\"1.0\" encoding=\"UTF-8\"?>\n",
            "<!--XBRL Document Created with Wdesk from Workiva-->\n",
            "<!--p:c57a17684e854bd2ae245f5e7175ead3,x:03ccc8f565524b059651191d17fb3580-->\n",
            "<!-- Document created using Wdesk  -->\n",
            "<!-- Copyright 2020 Workiva -->\n",
            "<html xmlns=\"http://www.w3.org/1999/xhtml\" xmlns:schedoi-fednote=\"http://fasb.org/dis/schedoi-fednote/2019-01-31\" xmlns:fs-interest=\"http://fasb.org/dis/fs-interest/2019-01-31\" xmlns:sfp-ibo=\"http://fasb.org/stm/sfp-ibo/2019-01-31\" xmlns:sfp-sbo=\"http://fasb.org/stm/sfp-sbo/2019-01-31\" xmlns:sic-std=\"http://xbrl.sec.gov/sic-std/2011-01-31\" xmlns:stpr-std=\"http://xbrl.sec.gov/stpr-std-std-std/2018-01-31\" xmlns:currency-ent-std=\"http://xbrl.sec.gov/currency-ent-std/2019-01-31\" xmlns:lea=\"http://fasb.org/dis/lea/2019-01-31\" xmlns:ctbl=\"http://fasb.org/dis/ctbl/2019-01-31\" xmlns:guar=\"http://fasb.org/dis/guar/2019-01-31\" xmlns:ru=\"http://fasb.org/dis/ru/2019-01-31\" xmlns:stpr-all=\"http://xbrl.sec.gov/stpr-all-all-all/2018-01-31\" xmlns:leas=\"http://fasb.org/dis/leas/2019-01-31\" xmlns:sfp-clreo=\"http://fasb.org/stm/sfp-clreo/2019-01-31\" xmlns:iaoi=\"http://fasb.org/dis/iaoi/2019-01-31\" xmlns:soi-ins=\"http://fasb.org/stm/soi-ins/2019-01-31\" xmlns:country-ent-std=\"http://xbrl.sec.gov/country-ent-std/2017-01-31\" xmlns:country=\"http://xbrl.sec.gov/country/2017-01-31\" xmlns:fs-insa=\"http://fasb.org/dis/fs-insa/2019-01-31\" xmlns:naics=\"http://xbrl.sec.gov/naics/2017-01-31\" xmlns:cce=\"http://fasb.org/dis/cce/2019-01-31\" xmlns:inv=\"http://fasb.org/dis/inv/2019-01-31\" xmlns:naics-ent-std=\"http://xbrl.sec.gov/naics-ent-std/2017-01-31\" xmlns:srt-std=\"http://fasb.org/srt-std/2019-01-31\" xmlns:stpr-ent-all=\"http://xbrl.sec.gov/stpr-ent-all-all-all/2018-01-31\" xmlns:stpr-ent-std=\"http://xbrl.sec.gov/stpr-ent-std-std-std/2018-01-31\" xmlns:schedoi-iiaa=\"http://fasb.org/dis/schedoi-iiaa/2019-01-31\" xmlns:us-arcroles=\"http://fasb.org/us-arcroles/2019-01-31\" xmlns:dccpoa=\"http://fasb.org/dis/dccpoa/2019-01-31\" xmlns:soi-sbi=\"http://fasb.org/stm/soi-sbi/2019-01-31\" xmlns:us-gaap-all=\"http://fasb.org/us-gaap-all/2019-01-31\" xmlns:scf-sd=\"http://fasb.org/stm/scf-sd/2019-01-31\" xmlns:ceclcalc3l=\"http://fasb.org/dis/ceclcalc3l/2019-01-31\" xmlns:xsi=\"http://www.w3.org/2001/XMLSchema-instance\" xmlns:dei-ent-all=\"http://xbrl.sec.gov/dei-ent-all/2019-01-31\" xmlns:iso4217=\"http://www.xbrl.org/2003/iso4217\" xmlns:deprecated=\"http://www.xbrl.org/2009/arcrole/deprecated\" xmlns:naics-all=\"http://xbrl.sec.gov/naics-all/2017-01-31\" xmlns:re=\"http://fasb.org/dis/re/2019-01-31\" xmlns:srt-types=\"http://fasb.org/srt-types/2019-01-31\" xmlns:reorg=\"http://fasb.org/dis/reorg/2019-01-31\" xmlns:invco=\"http://fasb.org/dis/invco/2019-01-31\" xmlns:currency-ent-all=\"http://xbrl.sec.gov/currency-ent-all/2019-01-31\" xmlns:currency-std=\"http://xbrl.sec.gov/currency-std/2019-01-31\" xmlns:currency-ent-dep=\"http://xbrl.sec.gov/currency-ent-dep/2019-01-31\" xmlns:aro=\"http://fasb.org/dis/aro/2019-01-31\" xmlns:exch=\"http://xbrl.sec.gov/exch/2019-01-31\" xmlns:ocpfs=\"http://fasb.org/dis/ocpfs/2019-01-31\" xmlns:currency=\"http://xbrl.sec.gov/currency/2019-01-31\" xmlns:naics-std=\"http://xbrl.sec.gov/naics-std/2017-01-31\" xmlns:srt-all=\"http://fasb.org/srt-all/2019-01-31\" xmlns:codification-part=\"http://fasb.org/codification-part/2019-01-31\" xmlns:srt=\"http://fasb.org/srt/2019-01-31\" xmlns:deprecated1=\"http://www.xbrl.org/2009/role/deprecated\" xmlns:sec-re=\"http://fasb.org/dis/sec-re/2019-01-31\" xmlns:soi-int=\"http://fasb.org/stm/soi-int/2019-01-31\" xmlns:emjv=\"http://fasb.org/dis/emjv/2019-01-31\" xmlns:sec-suppc=\"http://fasb.org/dis/sec-suppc/2019-01-31\" xmlns:equity=\"http://fasb.org/dis/equity/2019-01-31\" xmlns:ix=\"http://www.xbrl.org/2013/inlineXBRL\" xmlns:se=\"http://fasb.org/dis/se/2019-01-31\" xmlns:crcrb=\"http://fasb.org/dis/crcrb/2019-01-31\" xmlns:edco=\"http://fasb.org/dis/edco/2019-01-31\" xmlns:te=\"http://fasb.org/dis/te/2019-01-31\" xmlns:dei-all=\"http://xbrl.sec.gov/dei-all/2019-01-31\" xmlns:fs-bd=\"http://fasb.org/dis/fs-bd/2019-01-31\" xmlns:invest-all=\"http://xbrl.sec.gov/invest-all/2013-01-31\" xmlns:hco=\"http://fasb.org/dis/hco/2019-01-31\" xmlns:fs-bt=\"http://fasb.org/dis/fs-bt/2019-01-31\" xmlns:us-roles=\"http://fasb.org/us-roles/2019-01-31\" xmlns:dr=\"http://fasb.org/dis/dr/2019-01-31\" xmlns:ero=\"http://fasb.org/dis/ero/2019-01-31\" xmlns:country-ent-all=\"http://xbrl.sec.gov/country-ent-all/2017-01-31\" xmlns:schedoi-oocw=\"http://fasb.org/dis/schedoi-oocw/2019-01-31\" xmlns:cecl=\"http://fasb.org/dis/cecl/2019-01-31\" xmlns:rpd=\"http://fasb.org/dis/rpd/2019-01-31\" xmlns:schedoi-sumhold=\"http://fasb.org/dis/schedoi-sumhold/2019-01-31\" xmlns:ceclcalc2=\"http://fasb.org/dis/ceclcalc2/2019-01-31\" xmlns:othliab=\"http://fasb.org/dis/othliab/2019-01-31\" xmlns:soi-egm=\"http://fasb.org/stm/soi-egm/2019-01-31\" xmlns:schedoi-shorthold=\"http://fasb.org/dis/schedoi-shorthold/2019-01-31\" xmlns:soi=\"http://fasb.org/stm/soi/2019-01-31\" xmlns:diha=\"http://fasb.org/dis/diha/2019-01-31\" xmlns:debt=\"http://fasb.org/dis/debt/2019-01-31\" xmlns:schedoi-hold=\"http://fasb.org/dis/schedoi-hold/2019-01-31\" xmlns:num=\"http://www.xbrl.org/dtr/type/numeric\" xmlns:invest-std=\"http://xbrl.sec.gov/invest-std/2013-01-31\" xmlns:xlink=\"http://www.w3.org/1999/xlink\" xmlns:us-gaap-ent-std=\"http://fasb.org/us-gaap-ent-std/2019-01-31\" xmlns:bc=\"http://fasb.org/dis/bc/2019-01-31\" xmlns:sic-ent-all=\"http://xbrl.sec.gov/sic-ent-all/2011-01-31\" xmlns:exch-ent-std=\"http://xbrl.sec.gov/exch-ent-std/2019-01-31\" xmlns:invest-ent-all=\"http://xbrl.sec.gov/invest-ent-all/2013-01-31\" xmlns:rcc=\"http://fasb.org/dis/rcc/2019-01-31\" xmlns:rd=\"http://fasb.org/dis/rd/2019-01-31\" xmlns:sfp-ucreo=\"http://fasb.org/stm/sfp-ucreo/2019-01-31\" xmlns:eui=\"http://fasb.org/dis/eui/2019-01-31\" xmlns:dei=\"http://xbrl.sec.gov/dei/2019-01-31\" xmlns:ap=\"http://fasb.org/dis/ap/2019-01-31\" xmlns:soi-reit=\"http://fasb.org/stm/soi-reit/2019-01-31\" xmlns:fs-mort=\"http://fasb.org/dis/fs-mort/2019-01-31\" xmlns:sec-reins=\"http://fasb.org/dis/sec-reins/2019-01-31\" xmlns:link=\"http://www.xbrl.org/2003/linkbase\" xmlns:sec-cndfir=\"http://fasb.org/dis/sec-cndfir/2019-01-31\" xmlns:sr=\"http://fasb.org/dis/sr/2019-01-31\" xmlns:currency-all=\"http://xbrl.sec.gov/currency-all/2019-01-31\" xmlns:scf-dbo=\"http://fasb.org/stm/scf-dbo/2019-01-31\" xmlns:fs-fhlb=\"http://fasb.org/dis/fs-fhlb/2019-01-31\" xmlns:crcpb=\"http://fasb.org/dis/crcpb/2019-01-31\" xmlns:dei-ent-std=\"http://xbrl.sec.gov/dei-ent-std/2019-01-31\" xmlns:us-types=\"http://fasb.org/us-types/2019-01-31\" xmlns:scf-inv=\"http://fasb.org/stm/scf-inv/2019-01-31\" xmlns:scf-indira=\"http://fasb.org/stm/scf-indira/2019-01-31\" xmlns:bsoff=\"http://fasb.org/dis/bsoff/2019-01-31\" xmlns:exch-ent-all=\"http://xbrl.sec.gov/exch-ent-all/2019-01-31\" xmlns:oi=\"http://fasb.org/dis/oi/2019-01-31\" xmlns:soi-indira=\"http://fasb.org/stm/soi-indira/2019-01-31\" xmlns:xbrli=\"http://www.xbrl.org/2003/instance\" xmlns:schedoi-otsh=\"http://fasb.org/dis/schedoi-otsh/2019-01-31\" xmlns:sfp-dbo=\"http://fasb.org/stm/sfp-dbo/2019-01-31\" xmlns:cc=\"http://fasb.org/dis/cc/2019-01-31\" xmlns:nonnum=\"http://www.xbrl.org/dtr/type/non-numeric\" xmlns:amzn=\"http://www.amazon.com/20191231\" xmlns:crcsbp=\"http://fasb.org/dis/crcsbp/2019-01-31\" xmlns:disops=\"http://fasb.org/dis/disops/2019-01-31\" xmlns:reference=\"http://www.xbrl.org/2009/role/reference\" xmlns:cn-part=\"http://fasb.org/cn-part/2019-01-31\" xmlns:us-gaap=\"http://fasb.org/us-gaap/2019-01-31\" xmlns:srt-roles=\"http://fasb.org/srt-roles/2019-01-31\" xmlns:country-std=\"http://xbrl.sec.gov/country-std/2017-01-31\" xmlns:net=\"http://www.xbrl.org/2009/role/net\" xmlns:scf-indir=\"http://fasb.org/stm/scf-indir/2019-01-31\" xmlns:rlnro=\"http://fasb.org/dis/rlnro/2019-01-31\" xmlns:ts=\"http://fasb.org/dis/ts/2019-01-31\" xmlns:us-gaap-std=\"http://fasb.org/us-gaap-std/2019-01-31\" xmlns:naics-ent-all=\"http://xbrl.sec.gov/naics-ent-all/2017-01-31\" xmlns:ref=\"http://www.xbrl.org/2006/ref\" xmlns:scf-dir=\"http://fasb.org/stm/scf-dir/2019-01-31\" xmlns:dei-std=\"http://xbrl.sec.gov/dei-std/2019-01-31\" xmlns:ni=\"http://fasb.org/dis/ni/2019-01-31\" xmlns:sec-mort=\"http://fasb.org/dis/sec-mort/2019-01-31\" xmlns:fifvd=\"http://fasb.org/dis/fifvd/2019-01-31\" xmlns:otherexp=\"http://fasb.org/dis/otherexp/2019-01-31\" xmlns:scf-re=\"http://fasb.org/stm/scf-re/2019-01-31\" xmlns:sec-vq=\"http://fasb.org/dis/sec-vq/2019-01-31\" xmlns:sec-sum=\"http://fasb.org/dis/sec-sum/2019-01-31\" xmlns:exch-std=\"http://xbrl.sec.gov/exch-std/2019-01-31\" xmlns:invest=\"http://xbrl.sec.gov/invest/2013-01-31\" xmlns:ir=\"http://fasb.org/dis/ir/2019-01-31\" xmlns:sheci=\"http://fasb.org/stm/sheci/2019-01-31\" xmlns:foct=\"http://fasb.org/dis/foct/2019-01-31\" xmlns:soc=\"http://fasb.org/stm/soc/2019-01-31\" xmlns:scf-sbo=\"http://fasb.org/stm/scf-sbo/2019-01-31\" xmlns:inctax=\"http://fasb.org/dis/inctax/2019-01-31\" xmlns:ppe=\"http://fasb.org/dis/ppe/2019-01-31\" xmlns:country-all=\"http://xbrl.sec.gov/country-all/2017-01-31\" xmlns:ixt-sec=\"http://www.sec.gov/inlineXBRL/transformation/2015-08-31\" xmlns\n"
          ],
          "name": "stdout"
        }
      ]
    },
    {
      "cell_type": "markdown",
      "metadata": {
        "id": "H_dQV1FAyhcu",
        "colab_type": "text"
      },
      "source": [
        "Document can be identified within the tags \\<DOCUMENT> and \\</DOCUMENT>"
      ]
    },
    {
      "cell_type": "code",
      "metadata": {
        "id": "VTLPhyrIwhkP",
        "colab_type": "code",
        "colab": {
          "base_uri": "https://localhost:8080/",
          "height": 153
        },
        "outputId": "07e1acf9-5ff5-4a98-c717-aa6ffccdfcb1"
      },
      "source": [
        "import re\n",
        "\n",
        "def get_document(text):\n",
        "  extracted_docs = []\n",
        "\n",
        "  doc_start_pattern = re.compile(r\"<DOCUMENT>\")\n",
        "  doc_end_pattern = re.compile(r\"</DOCUMENT>\")\n",
        "\n",
        "  doc_start_is = [x.end() for x in doc_start_pattern.finditer(text)]\n",
        "  doc_end_is = [x.start() for x in doc_end_pattern.finditer(text)]\n",
        "\n",
        "  for doc_start_i, doc_end_i in zip(doc_start_is, doc_end_is):\n",
        "    extracted_docs.append(text[doc_start_i: doc_end_i])\n",
        "\n",
        "  return extracted_docs\n",
        "\n",
        "filling_documents_by_ticker = {}\n",
        "\n",
        "for ticker, raw_fillings in raw_filings_by_ticker.items():\n",
        "  filling_documents_by_ticker[ticker] = {}\n",
        "  for file_date, filling in tqdm(raw_fillings.items(), desc=f'Getting Documents from {ticker} Fillings', unit=\" fillings\"):\n",
        "    filling_documents_by_ticker[ticker][file_date] = get_document(filling)\n",
        "                                 \n",
        "print(\"/n/n\")"
      ],
      "execution_count": 31,
      "outputs": [
        {
          "output_type": "stream",
          "text": [
            "Getting Documents from AMZN Fillings: 100%|██████████| 20/20 [00:00<00:00, 85.94 fillings/s]\n",
            "Getting Documents from BMY Fillings: 100%|██████████| 25/25 [00:00<00:00, 50.22 fillings/s]\n",
            "Getting Documents from CNP Fillings: 100%|██████████| 17/17 [00:00<00:00, 41.54 fillings/s]\n",
            "Getting Documents from CVX Fillings: 100%|██████████| 23/23 [00:00<00:00, 43.02 fillings/s]\n",
            "Getting Documents from FL Fillings: 100%|██████████| 18/18 [00:00<00:00, 63.48 fillings/s]\n",
            "Getting Documents from FRT Fillings: 100%|██████████| 21/21 [00:00<00:00, 61.03 fillings/s]\n",
            "Getting Documents from HON Fillings: 100%|██████████| 22/22 [00:00<00:00, 49.89 fillings/s]"
          ],
          "name": "stderr"
        },
        {
          "output_type": "stream",
          "text": [
            "/n\n"
          ],
          "name": "stdout"
        },
        {
          "output_type": "stream",
          "text": [
            "\n"
          ],
          "name": "stderr"
        }
      ]
    },
    {
      "cell_type": "code",
      "metadata": {
        "id": "GuXSvkIcwhh0",
        "colab_type": "code",
        "colab": {}
      },
      "source": [
        "# define function to return the type of document given\n",
        "def get_document_type(doc):\n",
        "  type_pattern = re.compile(r\"<TYPE>[^\\n]+\")\n",
        "  doc_type = type_pattern.findall(doc)[0][len(\"<TYPE>\"):]\n",
        "  return doc_type.lower()"
      ],
      "execution_count": 0,
      "outputs": []
    },
    {
      "cell_type": "code",
      "metadata": {
        "id": "-ZT3EDzhqaeZ",
        "colab_type": "code",
        "colab": {
          "base_uri": "https://localhost:8080/",
          "height": 391
        },
        "outputId": "700fef37-6da8-4d6a-b1b6-ec449a57cbb4"
      },
      "source": [
        "# filter out non 10-K documents\n",
        "\n",
        "ten_ks_by_ticker = {}\n",
        "\n",
        "for ticker, filling_documents in filling_documents_by_ticker.items():\n",
        "  ten_ks_by_ticker[ticker] = []\n",
        "  for file_date, documents in filling_documents.items():\n",
        "    for document in documents:\n",
        "      if get_document_type(document) == \"10-k\":\n",
        "        ten_ks_by_ticker[ticker].append({\n",
        "            \"cik\": cik_lookup[ticker],\n",
        "            \"file\": document,\n",
        "            \"file_date\": file_date\n",
        "        })\n",
        "\n",
        "print_ten_k_data(ten_ks_by_ticker[example_ticker][:5], ['cik', 'file', 'file_date'])"
      ],
      "execution_count": 36,
      "outputs": [
        {
          "output_type": "stream",
          "text": [
            "[\n",
            "  {\n",
            "    cik: '0001018724'\n",
            "    file: '\\n<TYPE>10-K\\n<SEQUENCE>1\\n<FILENAME>amzn-2019123...\n",
            "    file_date: '2020-01-31'},\n",
            "  {\n",
            "    cik: '0001018724'\n",
            "    file: '\\n<TYPE>10-K\\n<SEQUENCE>1\\n<FILENAME>amzn-2018123...\n",
            "    file_date: '2019-02-01'},\n",
            "  {\n",
            "    cik: '0001018724'\n",
            "    file: '\\n<TYPE>10-K\\n<SEQUENCE>1\\n<FILENAME>amzn-2017123...\n",
            "    file_date: '2018-02-02'},\n",
            "  {\n",
            "    cik: '0001018724'\n",
            "    file: '\\n<TYPE>10-K\\n<SEQUENCE>1\\n<FILENAME>amzn-2016123...\n",
            "    file_date: '2017-02-10'},\n",
            "  {\n",
            "    cik: '0001018724'\n",
            "    file: '\\n<TYPE>10-K\\n<SEQUENCE>1\\n<FILENAME>amzn-2015123...\n",
            "    file_date: '2016-01-29'},\n",
            "]\n"
          ],
          "name": "stdout"
        }
      ]
    },
    {
      "cell_type": "markdown",
      "metadata": {
        "id": "cEAtq0js33Bp",
        "colab_type": "text"
      },
      "source": [
        "## Process data\n",
        "In the next section, html code is removed and all documents are cleaned"
      ]
    },
    {
      "cell_type": "code",
      "metadata": {
        "id": "hxe2tDjFqaac",
        "colab_type": "code",
        "colab": {
          "base_uri": "https://localhost:8080/",
          "height": 340
        },
        "outputId": "7dd7fb20-7482-432b-96e8-301169ac1c38"
      },
      "source": [
        "def clean_text(text):\n",
        "  return BeautifulSoup(text.lower(), \"html.parser\").get_text() \n",
        "\n",
        "for ticker, ten_ks in ten_ks_by_ticker.items():\n",
        "  for ten_k in tqdm(ten_ks, desc=f\"Cleaning {ticker} 10-Ks\", unit=\" 10-K\"):\n",
        "    ten_k[\"file_clean\"] = clean_text(ten_k[\"file\"])\n",
        "\n",
        "print_ten_k_data(ten_ks_by_ticker[example_ticker][:5], [\"file_clean\"])\n"
      ],
      "execution_count": 38,
      "outputs": [
        {
          "output_type": "stream",
          "text": [
            "Cleaning AMZN 10-Ks: 100%|██████████| 18/18 [00:32<00:00,  2.36s/ 10-K]\n",
            "Cleaning BMY 10-Ks: 100%|██████████| 18/18 [01:04<00:00,  2.24s/ 10-K]\n",
            "Cleaning CNP 10-Ks: 100%|██████████| 17/17 [00:56<00:00,  3.33s/ 10-K]\n",
            "Cleaning CVX 10-Ks: 100%|██████████| 18/18 [01:37<00:00,  5.41s/ 10-K]\n",
            "Cleaning FL 10-Ks: 100%|██████████| 18/18 [00:24<00:00,  1.36s/ 10-K]\n",
            "Cleaning FRT 10-Ks: 100%|██████████| 17/17 [00:48<00:00,  2.83s/ 10-K]\n",
            "Cleaning HON 10-Ks: 100%|██████████| 19/19 [00:51<00:00,  2.69s/ 10-K]"
          ],
          "name": "stderr"
        },
        {
          "output_type": "stream",
          "text": [
            "[\n",
            "  {\n",
            "    file_clean: '\\n10-k\\n1\\namzn-20191231x10k.htm\\n10-k\\n\\n\\n\\n\\n\\...},\n",
            "  {\n",
            "    file_clean: '\\n10-k\\n1\\namzn-20181231x10k.htm\\n10-k\\n\\n\\n\\n\\n\\...},\n",
            "  {\n",
            "    file_clean: '\\n10-k\\n1\\namzn-20171231x10k.htm\\n10-k\\n\\n\\n\\n\\n\\...},\n",
            "  {\n",
            "    file_clean: '\\n10-k\\n1\\namzn-20161231x10k.htm\\nform 10-k\\n\\n\\n...},\n",
            "  {\n",
            "    file_clean: '\\n10-k\\n1\\namzn-20151231x10k.htm\\nform 10-k\\n\\n\\n...},\n",
            "]\n"
          ],
          "name": "stdout"
        },
        {
          "output_type": "stream",
          "text": [
            "\n"
          ],
          "name": "stderr"
        }
      ]
    },
    {
      "cell_type": "markdown",
      "metadata": {
        "id": "qlIONuR67bYD",
        "colab_type": "text"
      },
      "source": [
        "## Lemmatize data"
      ]
    },
    {
      "cell_type": "code",
      "metadata": {
        "id": "X6TSFFRw4Xkd",
        "colab_type": "code",
        "colab": {
          "base_uri": "https://localhost:8080/",
          "height": 340
        },
        "outputId": "339c9a0f-3f52-4564-daf2-ac3acc153a76"
      },
      "source": [
        "from nltk.stem import WordNetLemmatizer\n",
        "from nltk.corpus import wordnet\n",
        "\n",
        "def lemmatize_words(words):\n",
        "  lemmatized_words = [WordNetLemmatizer().lemmatize(word, \"v\") for word in words]\n",
        "\n",
        "  return lemmatized_words\n",
        "\n",
        "word_pattern = re.compile(\"\\w+\")\n",
        "\n",
        "for ticker, ten_ks in ten_ks_by_ticker.items():\n",
        "  for ten_k in tqdm(ten_ks, desc=f\"Lemmatize {ticker} 10-Ks\", unit=\" 10-K\"):\n",
        "    ten_k[\"file_lemma\"] = lemmatize_words(word_pattern.findall(ten_k[\"file_clean\"]))\n",
        "\n",
        "print_ten_k_data(ten_ks_by_ticker[example_ticker][:5], [\"file_lemma\"])"
      ],
      "execution_count": 44,
      "outputs": [
        {
          "output_type": "stream",
          "text": [
            "Lemmatize AMZN 10-Ks: 100%|██████████| 18/18 [00:03<00:00,  4.83 10-K/s]\n",
            "Lemmatize BMY 10-Ks: 100%|██████████| 18/18 [00:06<00:00,  3.52 10-K/s]\n",
            "Lemmatize CNP 10-Ks: 100%|██████████| 17/17 [00:06<00:00,  2.51 10-K/s]\n",
            "Lemmatize CVX 10-Ks: 100%|██████████| 18/18 [00:05<00:00,  3.43 10-K/s]\n",
            "Lemmatize FL 10-Ks: 100%|██████████| 18/18 [00:03<00:00,  5.74 10-K/s]\n",
            "Lemmatize FRT 10-Ks: 100%|██████████| 17/17 [00:04<00:00,  4.53 10-K/s]\n",
            "Lemmatize HON 10-Ks: 100%|██████████| 19/19 [00:04<00:00,  5.50 10-K/s]"
          ],
          "name": "stderr"
        },
        {
          "output_type": "stream",
          "text": [
            "[\n",
            "  {\n",
            "    file_lemma: '['10', 'k', '1', 'amzn', '20191231x10k', 'htm', '...},\n",
            "  {\n",
            "    file_lemma: '['10', 'k', '1', 'amzn', '20181231x10k', 'htm', '...},\n",
            "  {\n",
            "    file_lemma: '['10', 'k', '1', 'amzn', '20171231x10k', 'htm', '...},\n",
            "  {\n",
            "    file_lemma: '['10', 'k', '1', 'amzn', '20161231x10k', 'htm', '...},\n",
            "  {\n",
            "    file_lemma: '['10', 'k', '1', 'amzn', '20151231x10k', 'htm', '...},\n",
            "]\n"
          ],
          "name": "stdout"
        },
        {
          "output_type": "stream",
          "text": [
            "\n"
          ],
          "name": "stderr"
        }
      ]
    },
    {
      "cell_type": "markdown",
      "metadata": {
        "id": "G8xkOvBY9bmP",
        "colab_type": "text"
      },
      "source": [
        "## Remove stopwords"
      ]
    },
    {
      "cell_type": "code",
      "metadata": {
        "id": "b87YQ1Je9dMN",
        "colab_type": "code",
        "colab": {
          "base_uri": "https://localhost:8080/",
          "height": 136
        },
        "outputId": "208e6f1b-7d59-4fae-b1d9-bbaac749c835"
      },
      "source": [
        "from nltk.corpus import stopwords\n",
        "\n",
        "lemma_english_stopwords = lemmatize_words(stopwords.words(\"english\"))\n",
        "\n",
        "for ticker, ten_ks in ten_ks_by_ticker.items():\n",
        "  for ten_k in tqdm(ten_ks, desc=f\"Remove stop words for {ticker} 10-Ks\", unit=\" 10-K\"):\n",
        "    ten_k[\"file_lemma\"] = [word for word in ten_k[\"file_lemma\"] if word not in lemma_english_stopwords]"
      ],
      "execution_count": 47,
      "outputs": [
        {
          "output_type": "stream",
          "text": [
            "Remove stop words for AMZN 10-Ks: 100%|██████████| 18/18 [00:01<00:00, 12.47 10-K/s]\n",
            "Remove stop words for BMY 10-Ks: 100%|██████████| 18/18 [00:02<00:00,  6.49 10-K/s]\n",
            "Remove stop words for CNP 10-Ks: 100%|██████████| 17/17 [00:02<00:00,  5.83 10-K/s]\n",
            "Remove stop words for CVX 10-Ks: 100%|██████████| 18/18 [00:02<00:00,  8.05 10-K/s]\n",
            "Remove stop words for FL 10-Ks: 100%|██████████| 18/18 [00:01<00:00, 14.38 10-K/s]\n",
            "Remove stop words for FRT 10-Ks: 100%|██████████| 17/17 [00:01<00:00, 10.17 10-K/s]\n",
            "Remove stop words for HON 10-Ks: 100%|██████████| 19/19 [00:01<00:00, 12.39 10-K/s]\n"
          ],
          "name": "stderr"
        }
      ]
    },
    {
      "cell_type": "code",
      "metadata": {
        "id": "NMZGlAVvCbXK",
        "colab_type": "code",
        "colab": {}
      },
      "source": [
        ""
      ],
      "execution_count": 0,
      "outputs": []
    }
  ]
}